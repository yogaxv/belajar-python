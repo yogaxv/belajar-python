{
 "cells": [
  {
   "cell_type": "markdown",
   "id": "e3a90754",
   "metadata": {},
   "source": [
    "# MAP"
   ]
  },
  {
   "cell_type": "code",
   "execution_count": 1,
   "id": "ea36d480",
   "metadata": {},
   "outputs": [
    {
     "data": {
      "text/plain": [
       "20"
      ]
     },
     "execution_count": 1,
     "metadata": {},
     "output_type": "execute_result"
    }
   ],
   "source": [
    "def kali2(num):\n",
    "    return num*2\n",
    "\n",
    "kali2(10)"
   ]
  },
  {
   "cell_type": "code",
   "execution_count": 10,
   "id": "4c4fad9d",
   "metadata": {},
   "outputs": [
    {
     "name": "stdout",
     "output_type": "stream",
     "text": [
      "[10, 2, 3, 10, 2, 3]\n",
      "20\n",
      "4\n",
      "6\n",
      "[20, 4, 6]\n",
      "(20, 4, 6)\n"
     ]
    }
   ],
   "source": [
    "angkas = [10,2,3]\n",
    "print(kali2(angkas))\n",
    "\n",
    "for item in map(kali2,angkas):\n",
    "    print(item)\n",
    "    \n",
    "print(list(map(kali2,angkas)))\n",
    "\n",
    "hasil = tuple(map(kali2, angkas))\n",
    "print(hasil)"
   ]
  },
  {
   "cell_type": "code",
   "execution_count": 13,
   "id": "66df9ef3",
   "metadata": {},
   "outputs": [
    {
     "name": "stdout",
     "output_type": "stream",
     "text": [
      "Genap\n",
      "['Genap', 'Ganjil', 'Genap']\n"
     ]
    }
   ],
   "source": [
    "def jumlahkata(kata):\n",
    "    if len(kata)%2 == 0:\n",
    "        return \"Genap\"\n",
    "    else:\n",
    "        return \"Ganjil\"\n",
    "\n",
    "print(jumlahkata(\"ajdhasjdhknnnaksdjhakdhajdha\"))\n",
    "\n",
    "listkata = [\"adasda\", \"aas\", \"asdasdsa\"]\n",
    "hasilkata = list(map(jumlahkata,listkata))\n",
    "print(hasilkata)"
   ]
  },
  {
   "cell_type": "markdown",
   "id": "dd5bc01a",
   "metadata": {},
   "source": [
    "# Filter"
   ]
  },
  {
   "cell_type": "code",
   "execution_count": 24,
   "id": "55b1b93a",
   "metadata": {},
   "outputs": [
    {
     "name": "stdout",
     "output_type": "stream",
     "text": [
      "True\n",
      "False\n",
      "[2, 4, 6, 8, 10]\n",
      "(1, 3, 5, 7, 9)\n"
     ]
    }
   ],
   "source": [
    "def cekgenap(num): return num%2==0    #Contoh penulisan fungsi 1 baris\n",
    "def cekganjil(num): return num%2!=0\n",
    "    \n",
    "print(cekgenap(10))\n",
    "print(cekganjil(10))\n",
    "\n",
    "nomor = list(range(1,11))\n",
    "hanyagenap = list(filter(cekgenap,nomor))\n",
    "hanyaganjil = tuple(filter(cekganjil,nomor))\n",
    "print(hanyagenap)\n",
    "print(hanyaganjil)"
   ]
  },
  {
   "cell_type": "markdown",
   "id": "0ca9df85",
   "metadata": {},
   "source": [
    "# Lambda\n",
    "\n",
    "tujuan lambda, menggunakan fungsi untuk sekali digunakan pada sebuah list"
   ]
  },
  {
   "cell_type": "code",
   "execution_count": 25,
   "id": "ac275c83",
   "metadata": {},
   "outputs": [
    {
     "data": {
      "text/plain": [
       "600"
      ]
     },
     "execution_count": 25,
     "metadata": {},
     "output_type": "execute_result"
    }
   ],
   "source": [
    "# Contoh lambda :\n",
    "fungsi = lambda x:x*10\n",
    "\n",
    "fungsi(60)"
   ]
  },
  {
   "cell_type": "code",
   "execution_count": 27,
   "id": "022f32af",
   "metadata": {},
   "outputs": [
    {
     "name": "stdout",
     "output_type": "stream",
     "text": [
      "[1, 2, 3, 4, 5, 6, 7, 8, 9, 10]\n"
     ]
    }
   ],
   "source": [
    "print(nomor)"
   ]
  },
  {
   "cell_type": "code",
   "execution_count": 28,
   "id": "c60b2ac9",
   "metadata": {},
   "outputs": [
    {
     "name": "stdout",
     "output_type": "stream",
     "text": [
      "[2, 4, 6, 8, 10, 12, 14, 16, 18, 20]\n"
     ]
    }
   ],
   "source": [
    "lambdamap = list(map(lambda x:x*2, nomor))\n",
    "\n",
    "print(lambdamap)"
   ]
  },
  {
   "cell_type": "code",
   "execution_count": 30,
   "id": "35b6c099",
   "metadata": {},
   "outputs": [
    {
     "name": "stdout",
     "output_type": "stream",
     "text": [
      "(1, 3, 5, 7, 9)\n",
      "[2, 4, 6, 8, 10]\n"
     ]
    }
   ],
   "source": [
    "lambda_genap = list(filter(lambda x:x%2==0, nomor))\n",
    "lambda_ganjil = tuple(filter(lambda x:not x%2==0, nomor))\n",
    "\n",
    "print(lambda_ganjil)\n",
    "print(lambda_genap)"
   ]
  },
  {
   "cell_type": "code",
   "execution_count": null,
   "id": "2cbe7050",
   "metadata": {},
   "outputs": [],
   "source": []
  }
 ],
 "metadata": {
  "kernelspec": {
   "display_name": "Python 3",
   "language": "python",
   "name": "python3"
  },
  "language_info": {
   "codemirror_mode": {
    "name": "ipython",
    "version": 3
   },
   "file_extension": ".py",
   "mimetype": "text/x-python",
   "name": "python",
   "nbconvert_exporter": "python",
   "pygments_lexer": "ipython3",
   "version": "3.8.8"
  }
 },
 "nbformat": 4,
 "nbformat_minor": 5
}
