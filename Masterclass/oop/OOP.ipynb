{
 "cells": [
  {
   "cell_type": "markdown",
   "id": "7455158f",
   "metadata": {},
   "source": [
    "## Di python, semua object adalah class"
   ]
  },
  {
   "cell_type": "code",
   "execution_count": 4,
   "id": "951e8a3b",
   "metadata": {},
   "outputs": [
    {
     "name": "stdout",
     "output_type": "stream",
     "text": [
      "<class 'list'>\n",
      "<class 'dict'>\n",
      "<class 'builtin_function_or_method'>\n",
      "<class 'int'>\n",
      "<class 'float'>\n",
      "<class 'tuple'>\n",
      "<class 'bool'>\n",
      "<class 'NoneType'>\n"
     ]
    }
   ],
   "source": [
    "print(type([]))\n",
    "print(type({}))\n",
    "print(type(\"string\".capitalize)) # menggunakan claas attirbute\n",
    "print(type(12))\n",
    "print(type(12.1))\n",
    "print(type(()))\n",
    "print(type(True))\n",
    "print(type(None))"
   ]
  },
  {
   "cell_type": "markdown",
   "id": "e4018b00",
   "metadata": {},
   "source": [
    "# Mendefiniskan Class :\n",
    "\n",
    "```\n",
    "class ClassName:\n",
    "\n",
    "    def __init__ (self, attribute_name1, attribute_name2):\n",
    "        self.attribute_name1 = attribute_name1\n",
    "        self.attribute_name2 = attribute_name2\n",
    "        \n",
    "    def method_name (self):\n",
    "        return #tulisfungsinya\n",
    "```\n",
    "\n",
    "- Class Name must be CamelCase\n",
    "- Function names should be lowercase, with words separated by underscores as necessary to improve readability."
   ]
  },
  {
   "cell_type": "code",
   "execution_count": 7,
   "id": "5db55358",
   "metadata": {},
   "outputs": [
    {
     "name": "stdout",
     "output_type": "stream",
     "text": [
      "<class '__main__.Name1'>\n",
      "<class '__main__.Name2'>\n",
      "<class '__main__.Name3'>\n"
     ]
    }
   ],
   "source": [
    "class Name1:\n",
    "    pass\n",
    "\n",
    "class Name2():\n",
    "    pass\n",
    "\n",
    "class Name3(object):\n",
    "    pass\n",
    "\n",
    "var1 = Name1()\n",
    "var2 = Name2()\n",
    "var3 = Name3()\n",
    "\n",
    "print(type(var1))\n",
    "print(type(var2))\n",
    "print(type(var3))"
   ]
  },
  {
   "cell_type": "code",
   "execution_count": 32,
   "id": "3ec91d65",
   "metadata": {},
   "outputs": [
    {
     "name": "stdout",
     "output_type": "stream",
     "text": [
      "<__main__.Kulkas object at 0x000002020784EB50>\n",
      "Samsung 1000000\n",
      "Lg 899000\n",
      "['Samsung', 1000000, 3, 'listrik']\n",
      "{'merk': 'Lg', 'harga': 899000, 'garansi': 5, 'tenaga': 'listrik'}\n",
      "Kulkas Merk Samsung harga 1000000, jumlah yang yang dimiliki 1\n",
      "Kulkas Merk Lg harga 899000, jumlah yang yang dimiliki 10\n"
     ]
    }
   ],
   "source": [
    "class Kulkas:\n",
    "    \n",
    "    def __init__ (self, merk, harga, garansi = 3):\n",
    "        self.merk = merk\n",
    "        self.harga = harga\n",
    "        self.garansi = garansi\n",
    "        self.tenaga = 'listrik'\n",
    "        \n",
    "    def values(self): \n",
    "        return [self.merk, self.harga, self.garansi, self.tenaga]\n",
    "    \n",
    "    def details(self): \n",
    "        return {'merk':self.merk, 'harga':self.harga, 'garansi':self.garansi, 'tenaga':self.tenaga}\n",
    "    \n",
    "    def total(self, num =1): \n",
    "        print(\"Kulkas Merk {} harga {}, jumlah yang yang dimiliki {}\".format(self.merk, self.harga, num))\n",
    "        \n",
    "kulkas1 = Kulkas(merk='Samsung', harga=1000000)\n",
    "kulkas2 = Kulkas(\"Lg\", 899000, 5)\n",
    "\n",
    "print(kulkas1)\n",
    "print(kulkas1.merk, kulkas1.harga)\n",
    "print(kulkas2.merk, kulkas2.harga)\n",
    "print(kulkas1.values())\n",
    "print(kulkas2.details())\n",
    "kulkas1.total()\n",
    "kulkas2.total(10)"
   ]
  },
  {
   "cell_type": "code",
   "execution_count": 45,
   "id": "57cb10b5",
   "metadata": {},
   "outputs": [
    {
     "name": "stdout",
     "output_type": "stream",
     "text": [
      "314.0\n",
      "314.0\n",
      "62.800000000000004\n"
     ]
    }
   ],
   "source": [
    "class Lingkaran:\n",
    "    \n",
    "    #koefisien pi\n",
    "    pi = 3.14\n",
    "    \n",
    "    def __init__ (self, radius):\n",
    "        self.radius = radius\n",
    "        self.luas = self.pi*(self.radius**2)\n",
    "        \n",
    "    def hitung_luas(self):\n",
    "        return self.pi*(self.radius**2)\n",
    "    \n",
    "    def keliling(self):\n",
    "        return 2*self.pi*self.radius\n",
    "    \n",
    "lingkaran1 = Lingkaran(10)\n",
    "\n",
    "print(lingkaran1.luas)\n",
    "print(lingkaran1.hitung_luas())\n",
    "print(lingkaran1.keliling())"
   ]
  },
  {
   "cell_type": "markdown",
   "id": "14d504cd",
   "metadata": {},
   "source": [
    "# Inheritance / Warisan"
   ]
  },
  {
   "cell_type": "code",
   "execution_count": 52,
   "id": "97bb91cb",
   "metadata": {},
   "outputs": [
    {
     "name": "stdout",
     "output_type": "stream",
     "text": [
      "Joko di kelas 12 adalah seorang mahasiswa\n"
     ]
    }
   ],
   "source": [
    "class Mahasiswa:\n",
    "    \n",
    "    status = \"mahasiswa\"\n",
    "    \n",
    "    def __init__ (self, nama, kelas):\n",
    "        self.nama = nama\n",
    "        self.kelas = kelas\n",
    "        \n",
    "    def info(self):\n",
    "        print(\"{} di kelas {} adalah seorang {}\".format(self.nama, self.kelas, self.status))\n",
    "        \n",
    "\n",
    "joko = Mahasiswa(\"Joko\", 12)\n",
    "joko.info()"
   ]
  },
  {
   "cell_type": "code",
   "execution_count": 53,
   "id": "677e6094",
   "metadata": {},
   "outputs": [],
   "source": [
    "class Nilai(Mahasiswa):\n",
    "    \n",
    "    def __init__ (self, nama, kelas):\n",
    "        # Mencari kelas yang memiliki inisialiasi yang sama\n",
    "        # representasikan mahasiswa\n",
    "        super().__init__(nama,kelas)\n",
    "        # bisa ditulis dengan dibawah ini\n",
    "        # Mahasiswa.__init__(nama,kelas)\n",
    "        # akan kerepotan jika kita harus mengetahui semua className\n",
    "        self.nilai = []\n",
    "        \n",
    "    def input_nilai(self, nilai):\n",
    "        return self.nilai.append(nilai)"
   ]
  },
  {
   "cell_type": "code",
   "execution_count": 54,
   "id": "6e8e126e",
   "metadata": {},
   "outputs": [
    {
     "name": "stdout",
     "output_type": "stream",
     "text": [
      "Budi di kelas 9 adalah seorang mahasiswa\n"
     ]
    }
   ],
   "source": [
    "# test inheritance semua fungsi yang ada pada parentnya \n",
    "# akan di warisi/dimiliki oleh class yang diwariskan classnya\n",
    "budi = Nilai('Budi', 9)\n",
    "budi.info()"
   ]
  },
  {
   "cell_type": "code",
   "execution_count": 55,
   "id": "8c72ba4a",
   "metadata": {},
   "outputs": [
    {
     "name": "stdout",
     "output_type": "stream",
     "text": [
      "[80]\n"
     ]
    }
   ],
   "source": [
    "budi.input_nilai(80)\n",
    "print(budi.nilai)"
   ]
  },
  {
   "cell_type": "markdown",
   "id": "f6745d24",
   "metadata": {},
   "source": [
    "# PolyMorphism"
   ]
  },
  {
   "cell_type": "code",
   "execution_count": 60,
   "id": "63f908cc",
   "metadata": {},
   "outputs": [
    {
     "name": "stdout",
     "output_type": "stream",
     "text": [
      "Riri Meong-meong\n",
      "Bono Guk-guk\n"
     ]
    }
   ],
   "source": [
    "class Kucing:\n",
    "    \n",
    "    def __init__(self,nama):\n",
    "        self.nama = nama\n",
    "        \n",
    "    def respon(self):\n",
    "        return self.nama + \" Meong-meong\"\n",
    "\n",
    "class Anjing:\n",
    "    \n",
    "    def __init__(self,nama):\n",
    "        self.nama = nama\n",
    "        \n",
    "    def respon(self):\n",
    "        return self.nama + \" Guk-guk\"\n",
    "    \n",
    "riri = Kucing(\"Riri\")\n",
    "bono = Anjing(\"Bono\")\n",
    "\n",
    "print(riri.respon())\n",
    "print(bono.respon())"
   ]
  },
  {
   "cell_type": "code",
   "execution_count": 61,
   "id": "7cfe95e8",
   "metadata": {},
   "outputs": [
    {
     "name": "stdout",
     "output_type": "stream",
     "text": [
      "Riri Meong-meong\n",
      "Bono Guk-guk\n"
     ]
    }
   ],
   "source": [
    "for pet in [riri, bono]:\n",
    "    # print(type(pet))\n",
    "    print(pet.respon())"
   ]
  },
  {
   "cell_type": "code",
   "execution_count": 63,
   "id": "3d2a92fe",
   "metadata": {},
   "outputs": [
    {
     "name": "stdout",
     "output_type": "stream",
     "text": [
      "Riri Meong-meong\n",
      "Bono Guk-guk\n"
     ]
    }
   ],
   "source": [
    "def hewan_ngomong(binatang):\n",
    "    print(binatang.respon())\n",
    "    \n",
    "hewan_ngomong(riri)\n",
    "hewan_ngomong(bono)"
   ]
  },
  {
   "cell_type": "markdown",
   "id": "c3ff96ec",
   "metadata": {},
   "source": [
    "# Dunder/Magic Method"
   ]
  },
  {
   "cell_type": "code",
   "execution_count": 65,
   "id": "1f66ad3a",
   "metadata": {},
   "outputs": [
    {
     "data": {
      "text/plain": [
       "'Testing'"
      ]
     },
     "execution_count": 65,
     "metadata": {},
     "output_type": "execute_result"
    }
   ],
   "source": [
    "class Coba:\n",
    "    \n",
    "    def __init__(self,nama):\n",
    "        self.nama = nama\n",
    "        \n",
    "    def get_nama(self):\n",
    "        return self.nama\n",
    "    \n",
    "    # Mengganti dunder Method\n",
    "    # def __str__(self):\n",
    "    #     return self.nama\n",
    "\n",
    "coba = Coba(\"Testing\")\n",
    "coba.get_nama()"
   ]
  },
  {
   "cell_type": "code",
   "execution_count": 67,
   "id": "f368e0d6",
   "metadata": {},
   "outputs": [
    {
     "name": "stdout",
     "output_type": "stream",
     "text": [
      "['__class__', '__delattr__', '__dict__', '__dir__', '__doc__', '__eq__', '__format__', '__ge__', '__getattribute__', '__gt__', '__hash__', '__init__', '__init_subclass__', '__le__', '__lt__', '__module__', '__ne__', '__new__', '__reduce__', '__reduce_ex__', '__repr__', '__setattr__', '__sizeof__', '__str__', '__subclasshook__', '__weakref__', 'get_nama', 'nama']\n"
     ]
    }
   ],
   "source": [
    "print(dir(coba)) #cetak semua dunder method pada coba class"
   ]
  },
  {
   "cell_type": "code",
   "execution_count": 69,
   "id": "2e991038",
   "metadata": {},
   "outputs": [
    {
     "data": {
      "text/plain": [
       "'<__main__.Coba object at 0x000002020724E9D0>'"
      ]
     },
     "execution_count": 69,
     "metadata": {},
     "output_type": "execute_result"
    }
   ],
   "source": [
    "coba.__str__()"
   ]
  },
  {
   "cell_type": "code",
   "execution_count": 70,
   "id": "f765626d",
   "metadata": {},
   "outputs": [
    {
     "data": {
      "text/plain": [
       "'<__main__.Coba object at 0x000002020724E9D0>'"
      ]
     },
     "execution_count": 70,
     "metadata": {},
     "output_type": "execute_result"
    }
   ],
   "source": [
    "str(coba)"
   ]
  },
  {
   "cell_type": "markdown",
   "id": "f9372780",
   "metadata": {},
   "source": [
    "# Tantangan OOP\n",
    "\n",
    "Buat class dengan nama Rekening Bank\\\n",
    "terdapat method cetak saldo, menabung, dan menatik uang\\\n",
    "jika uangnya kurang saat menarik uang maka tunjukan keterangan bahwa saldo tidak mencukup"
   ]
  },
  {
   "cell_type": "code",
   "execution_count": 78,
   "id": "a7f98f95",
   "metadata": {},
   "outputs": [
    {
     "name": "stdout",
     "output_type": "stream",
     "text": [
      "Total tabungan Anda saat ini adalah : 100000\n",
      "Total tabungan Anda saat ini adalah : 125000\n",
      "Saldo tabungan tidak mencukupi untuk melakukan transaksi ini\n",
      "Total tabungan Anda saat ini adalah : 75000\n"
     ]
    }
   ],
   "source": [
    "class Tabungan:\n",
    "\n",
    "    def __init__(self, name, saldo = 0):\n",
    "        self.name = name\n",
    "        self.saldo = saldo\n",
    "        \n",
    "    def cek(self):\n",
    "        return print(\"Total tabungan Anda saat ini adalah : {}\".format(self.saldo))\n",
    "    \n",
    "    def setoran(self, num):\n",
    "        self.saldo += num\n",
    "        return self.cek()\n",
    "    \n",
    "    def tarik(self, num):\n",
    "        if self.saldo < num:\n",
    "            return print(\"Saldo tabungan tidak mencukupi untuk melakukan transaksi ini\")\n",
    "        else:\n",
    "            self.saldo-=num\n",
    "            return self.cek()\n",
    "        \n",
    "Anto = Tabungan(\"Anto\",100000)\n",
    "Anto.cek()\n",
    "Anto.setoran(25000)\n",
    "Anto.tarik(200000)\n",
    "Anto.tarik(50000)"
   ]
  },
  {
   "cell_type": "code",
   "execution_count": null,
   "id": "122911a3",
   "metadata": {},
   "outputs": [],
   "source": []
  }
 ],
 "metadata": {
  "kernelspec": {
   "display_name": "Python 3",
   "language": "python",
   "name": "python3"
  },
  "language_info": {
   "codemirror_mode": {
    "name": "ipython",
    "version": 3
   },
   "file_extension": ".py",
   "mimetype": "text/x-python",
   "name": "python",
   "nbconvert_exporter": "python",
   "pygments_lexer": "ipython3",
   "version": "3.8.8"
  }
 },
 "nbformat": 4,
 "nbformat_minor": 5
}
