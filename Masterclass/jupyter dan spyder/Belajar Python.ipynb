{
 "cells": [
  {
   "cell_type": "markdown",
   "id": "634e3b6a",
   "metadata": {},
   "source": [
    "# Belajar menggunakan Python"
   ]
  },
  {
   "cell_type": "markdown",
   "id": "a7822572",
   "metadata": {},
   "source": [
    "Python adalah sebuah aplikasi pemrograman  yang sanat populer saat ini."
   ]
  },
  {
   "cell_type": "markdown",
   "id": "be07303e",
   "metadata": {},
   "source": [
    "## Heading 2\n",
    "### Heading 3\n",
    "#### Heading 4"
   ]
  },
  {
   "cell_type": "markdown",
   "id": "240b0359",
   "metadata": {},
   "source": [
    "Kita bisa mengguanakan Italic *seperti ini*"
   ]
  },
  {
   "cell_type": "markdown",
   "id": "45762d89",
   "metadata": {},
   "source": [
    "Membuat tebal **Bold**"
   ]
  },
  {
   "cell_type": "markdown",
   "id": "b9221c85",
   "metadata": {},
   "source": [
    "> \"ini quotation\""
   ]
  },
  {
   "cell_type": "markdown",
   "id": "dd4aec37",
   "metadata": {},
   "source": [
    "`` Halo ``"
   ]
  },
  {
   "cell_type": "markdown",
   "id": "f8b0dfc7",
   "metadata": {},
   "source": [
    "Membuat list :\n",
    "\n",
    "* Nasi\n",
    "    * Nasi putih\n",
    "    * Nasi Hitam\n",
    "    * Nasi Merah\n",
    "        * Untuk diet\n",
    "* roti\n",
    "* Tepung\n",
    "    * Tepung berat\n",
    "    * Tepung terigu"
   ]
  },
  {
   "cell_type": "markdown",
   "id": "b61d8d57",
   "metadata": {},
   "source": [
    "List 2 :\n",
    "1. Joko\n",
    "2. Anwar"
   ]
  },
  {
   "cell_type": "markdown",
   "id": "471ac10c",
   "metadata": {},
   "source": [
    "\\* bintang tidak berubah menjadi mering *"
   ]
  },
  {
   "cell_type": "markdown",
   "id": "ed81e817",
   "metadata": {},
   "source": [
    "![nama_gambar](1200px-Markdown-mark.svg.png)"
   ]
  },
  {
   "cell_type": "markdown",
   "id": "d9aea5e9",
   "metadata": {},
   "source": [
    "while dan looping tidak berhenti"
   ]
  },
  {
   "cell_type": "code",
   "execution_count": 10,
   "id": "312ae15e",
   "metadata": {
    "collapsed": true
   },
   "outputs": [
    {
     "ename": "SyntaxError",
     "evalue": "invalid syntax (<ipython-input-10-59150f0eae37>, line 1)",
     "output_type": "error",
     "traceback": [
      "\u001b[1;36m  File \u001b[1;32m\"<ipython-input-10-59150f0eae37>\"\u001b[1;36m, line \u001b[1;32m1\u001b[0m\n\u001b[1;33m    while # looping non stop\u001b[0m\n\u001b[1;37m          ^\u001b[0m\n\u001b[1;31mSyntaxError\u001b[0m\u001b[1;31m:\u001b[0m invalid syntax\n"
     ]
    }
   ],
   "source": [
    "while # looping non stop"
   ]
  },
  {
   "cell_type": "code",
   "execution_count": null,
   "id": "ba1628df",
   "metadata": {
    "collapsed": true
   },
   "outputs": [],
   "source": []
  }
 ],
 "metadata": {
  "kernelspec": {
   "display_name": "Python 3",
   "language": "python",
   "name": "python3"
  },
  "language_info": {
   "codemirror_mode": {
    "name": "ipython",
    "version": 3
   },
   "file_extension": ".py",
   "mimetype": "text/x-python",
   "name": "python",
   "nbconvert_exporter": "python",
   "pygments_lexer": "ipython3",
   "version": "3.8.8"
  }
 },
 "nbformat": 4,
 "nbformat_minor": 5
}
