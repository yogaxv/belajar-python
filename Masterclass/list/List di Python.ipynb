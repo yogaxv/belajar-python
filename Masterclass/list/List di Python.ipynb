{
 "cells": [
  {
   "cell_type": "markdown",
   "id": "316455d6",
   "metadata": {},
   "source": [
    " # Arti\n",
    " \n",
    " List adalah kumpulan data yang berbeda type, contoh :"
   ]
  },
  {
   "cell_type": "code",
   "execution_count": 12,
   "id": "e2de221f",
   "metadata": {},
   "outputs": [],
   "source": [
    "keranjang = [1, 2.3, \"Apel\"]"
   ]
  },
  {
   "cell_type": "code",
   "execution_count": 4,
   "id": "595dafdf",
   "metadata": {},
   "outputs": [
    {
     "data": {
      "text/plain": [
       "3"
      ]
     },
     "execution_count": 4,
     "metadata": {},
     "output_type": "execute_result"
    }
   ],
   "source": [
    "len(keranjang)"
   ]
  },
  {
   "cell_type": "code",
   "execution_count": 11,
   "id": "21bdb495",
   "metadata": {},
   "outputs": [
    {
     "name": "stdout",
     "output_type": "stream",
     "text": [
      "keranjang 0 berisi 1\n",
      "keranjang 1 berisi Mangga\n",
      "keranjang 2 berisi Mangga\n"
     ]
    }
   ],
   "source": [
    "for i in range(0, len(keranjang)) :\n",
    "    print(\"keranjang {} berisi {}\".format(i, keranjang[i]))"
   ]
  },
  {
   "cell_type": "code",
   "execution_count": 13,
   "id": "95356250",
   "metadata": {},
   "outputs": [
    {
     "name": "stdout",
     "output_type": "stream",
     "text": [
      "keranjang 0 berisi 1\n",
      "keranjang 1 berisi Mangga\n",
      "keranjang 2 berisi Apel\n"
     ]
    }
   ],
   "source": [
    "keranjang[1] = \"Mangga\"\n",
    "for i in range(0, len(keranjang)) :\n",
    "    print(\"keranjang {} berisi {}\".format(i, keranjang[i]))"
   ]
  },
  {
   "cell_type": "code",
   "execution_count": 14,
   "id": "c8fda1ec",
   "metadata": {},
   "outputs": [],
   "source": [
    "jeruk = [\"jeruk\"]"
   ]
  },
  {
   "cell_type": "code",
   "execution_count": 15,
   "id": "3a1b74e1",
   "metadata": {},
   "outputs": [
    {
     "name": "stdout",
     "output_type": "stream",
     "text": [
      "keranjang 0 berisi 1\n",
      "keranjang 1 berisi Mangga\n",
      "keranjang 2 berisi Apel\n",
      "keranjang 3 berisi jeruk\n"
     ]
    }
   ],
   "source": [
    "keranjang = keranjang + jeruk\n",
    "for i in range (0, len(keranjang)):\n",
    "    print(\"keranjang {} berisi {}\".format(i, keranjang[i]))"
   ]
  },
  {
   "cell_type": "code",
   "execution_count": 17,
   "id": "1d554fe6",
   "metadata": {},
   "outputs": [
    {
     "name": "stdout",
     "output_type": "stream",
     "text": [
      "[1, 'Mangga', 'Apel', 'jeruk', 'pisang', 'pisang']\n"
     ]
    }
   ],
   "source": [
    "keranjang.append(\"pisang\")\n",
    "print(keranjang)"
   ]
  },
  {
   "cell_type": "code",
   "execution_count": 18,
   "id": "c534f91a",
   "metadata": {},
   "outputs": [
    {
     "name": "stdout",
     "output_type": "stream",
     "text": [
      "[1, 'Mangga', 'Apel', 'jeruk', 'pisang', 'pisang', 'anggur', 'kiwi', 'nanas', 'jeruk bali', ['anggur', 'kiwi', 'nanas', 'jeruk bali']]\n"
     ]
    }
   ],
   "source": [
    "buah_lain = [\"anggur\", \"kiwi\", \"nanas\", \"jeruk bali\"]\n",
    "keranjang = keranjang + buah_lain\n",
    "keranjang.append(buah_lain)\n",
    "\n",
    "print(keranjang)"
   ]
  },
  {
   "cell_type": "code",
   "execution_count": 19,
   "id": "715f0915",
   "metadata": {},
   "outputs": [
    {
     "data": {
      "text/plain": [
       "[1,\n",
       " 'Mangga',\n",
       " 'Apel',\n",
       " 'jeruk',\n",
       " 'pisang',\n",
       " 'pisang',\n",
       " 'anggur',\n",
       " 'kiwi',\n",
       " 'nanas',\n",
       " 'jeruk bali',\n",
       " ['anggur', 'kiwi', 'nanas', 'jeruk bali']]"
      ]
     },
     "execution_count": 19,
     "metadata": {},
     "output_type": "execute_result"
    }
   ],
   "source": [
    "keranjang"
   ]
  },
  {
   "cell_type": "code",
   "execution_count": 20,
   "id": "0d3412b9",
   "metadata": {},
   "outputs": [
    {
     "data": {
      "text/plain": [
       "[1,\n",
       " 'Mangga',\n",
       " 'Apel',\n",
       " 'jeruk',\n",
       " 'pisang',\n",
       " 'pisang',\n",
       " 'anggur',\n",
       " 'kiwi',\n",
       " 'nanas',\n",
       " 'jeruk bali']"
      ]
     },
     "execution_count": 20,
     "metadata": {},
     "output_type": "execute_result"
    }
   ],
   "source": [
    "keranjang.pop()\n",
    "keranjang"
   ]
  },
  {
   "cell_type": "code",
   "execution_count": 21,
   "id": "5dd44396",
   "metadata": {},
   "outputs": [
    {
     "data": {
      "text/plain": [
       "[1,\n",
       " 'Apel',\n",
       " 'jeruk',\n",
       " 'pisang',\n",
       " 'pisang',\n",
       " 'anggur',\n",
       " 'kiwi',\n",
       " 'nanas',\n",
       " 'jeruk bali']"
      ]
     },
     "execution_count": 21,
     "metadata": {},
     "output_type": "execute_result"
    }
   ],
   "source": [
    "keranjang.pop(1)\n",
    "keranjang"
   ]
  },
  {
   "cell_type": "code",
   "execution_count": 22,
   "id": "e80c58dc",
   "metadata": {},
   "outputs": [
    {
     "data": {
      "text/plain": [
       "['Apel', 'jeruk', 'pisang', 'pisang', 'anggur', 'kiwi', 'nanas', 'jeruk bali']"
      ]
     },
     "execution_count": 22,
     "metadata": {},
     "output_type": "execute_result"
    }
   ],
   "source": [
    "keranjang.pop(0)\n",
    "keranjang"
   ]
  },
  {
   "cell_type": "code",
   "execution_count": 23,
   "id": "83ce3c04",
   "metadata": {},
   "outputs": [],
   "source": [
    "keranjang.sort()"
   ]
  },
  {
   "cell_type": "code",
   "execution_count": 24,
   "id": "866bdf23",
   "metadata": {},
   "outputs": [
    {
     "data": {
      "text/plain": [
       "['Apel', 'anggur', 'jeruk', 'jeruk bali', 'kiwi', 'nanas', 'pisang', 'pisang']"
      ]
     },
     "execution_count": 24,
     "metadata": {},
     "output_type": "execute_result"
    }
   ],
   "source": [
    "keranjang"
   ]
  },
  {
   "cell_type": "code",
   "execution_count": 25,
   "id": "a300ea7d",
   "metadata": {},
   "outputs": [],
   "source": [
    "var1 = [1,2,5,94,3,1,4,8,87,6,31,5,8,313,188]\n",
    "var2 = var1.sort()\n",
    "var2"
   ]
  },
  {
   "cell_type": "code",
   "execution_count": 26,
   "id": "360e6779",
   "metadata": {},
   "outputs": [
    {
     "data": {
      "text/plain": [
       "NoneType"
      ]
     },
     "execution_count": 26,
     "metadata": {},
     "output_type": "execute_result"
    }
   ],
   "source": [
    "type(var2)"
   ]
  },
  {
   "cell_type": "code",
   "execution_count": 27,
   "id": "843054b3",
   "metadata": {},
   "outputs": [
    {
     "data": {
      "text/plain": [
       "list"
      ]
     },
     "execution_count": 27,
     "metadata": {},
     "output_type": "execute_result"
    }
   ],
   "source": [
    "type(var1)"
   ]
  },
  {
   "cell_type": "code",
   "execution_count": 28,
   "id": "f659c27a",
   "metadata": {},
   "outputs": [
    {
     "data": {
      "text/plain": [
       "[1, 1, 2, 3, 4, 5, 5, 6, 8, 8, 31, 87, 94, 188, 313]"
      ]
     },
     "execution_count": 28,
     "metadata": {},
     "output_type": "execute_result"
    }
   ],
   "source": [
    "var1.sort()\n",
    "var2 = var1\n",
    "var2"
   ]
  },
  {
   "cell_type": "code",
   "execution_count": 29,
   "id": "aa511fb8",
   "metadata": {},
   "outputs": [
    {
     "data": {
      "text/plain": [
       "list"
      ]
     },
     "execution_count": 29,
     "metadata": {},
     "output_type": "execute_result"
    }
   ],
   "source": [
    "type(var2)"
   ]
  },
  {
   "cell_type": "code",
   "execution_count": 30,
   "id": "3d40aab0",
   "metadata": {},
   "outputs": [
    {
     "data": {
      "text/plain": [
       "[313, 188, 94, 87, 31, 8, 8, 6, 5, 5, 4, 3, 2, 1, 1]"
      ]
     },
     "execution_count": 30,
     "metadata": {},
     "output_type": "execute_result"
    }
   ],
   "source": [
    "var2.reverse()\n",
    "var2"
   ]
  },
  {
   "cell_type": "code",
   "execution_count": 31,
   "id": "fac4a6a3",
   "metadata": {},
   "outputs": [
    {
     "name": "stdout",
     "output_type": "stream",
     "text": [
      "['a', 'b', 'c', 'd', 'e', 3, 6, 23.98, 24.1]\n"
     ]
    }
   ],
   "source": [
    "dataku = ['b', 'a', 3, 'd', 'c', 6, 'e', 23.98, 24.1]\n",
    "karakter = list(filter(lambda x : type(x) ==str, dataku))\n",
    "angka_int = list(filter(lambda x: type(x) == int, dataku))\n",
    "angka_float = list(filter(lambda x: type(x) == float, dataku))\n",
    "\n",
    "output = sorted(karakter) + sorted(angka_int) + sorted(angka_float)\n",
    "print(output)"
   ]
  },
  {
   "cell_type": "code",
   "execution_count": 32,
   "id": "56906169",
   "metadata": {},
   "outputs": [
    {
     "data": {
      "text/plain": [
       "['e', 3, 6, 23.98, 24.1]"
      ]
     },
     "execution_count": 32,
     "metadata": {},
     "output_type": "execute_result"
    }
   ],
   "source": [
    "output[4::]"
   ]
  },
  {
   "cell_type": "code",
   "execution_count": 34,
   "id": "abf0e08d",
   "metadata": {},
   "outputs": [
    {
     "data": {
      "text/plain": [
       "[1, 2, 3, 4, 5, [6, 'saya', 'ini', ['jojo', 'all']]]"
      ]
     },
     "execution_count": 34,
     "metadata": {},
     "output_type": "execute_result"
    }
   ],
   "source": [
    "list1 = [1,2,3,4,5,[6, \"saya\", \"ini\", [\"jojo\", \"all\"]]]\n",
    "list1"
   ]
  },
  {
   "cell_type": "code",
   "execution_count": 35,
   "id": "38fb0702",
   "metadata": {},
   "outputs": [
    {
     "data": {
      "text/plain": [
       "'all'"
      ]
     },
     "execution_count": 35,
     "metadata": {},
     "output_type": "execute_result"
    }
   ],
   "source": [
    "list1[5][3][1]"
   ]
  },
  {
   "cell_type": "markdown",
   "id": "3abc4dd8",
   "metadata": {},
   "source": [
    "## Lebih dalam dengan list"
   ]
  },
  {
   "cell_type": "code",
   "execution_count": 39,
   "id": "d4a580ea",
   "metadata": {},
   "outputs": [
    {
     "name": "stdout",
     "output_type": "stream",
     "text": [
      "<class 'list'>\n",
      "<class 'list'>\n",
      "var1 dan var2 equal\n"
     ]
    }
   ],
   "source": [
    "var1 = list()\n",
    "var2 = []\n",
    "\n",
    "print(type(var1))\n",
    "print(type(var2))\n",
    "\n",
    "if var1 == var2:\n",
    "    print(\"var1 dan var2 equal\")"
   ]
  },
  {
   "cell_type": "code",
   "execution_count": 41,
   "id": "3ad8fbda",
   "metadata": {
    "collapsed": true
   },
   "outputs": [
    {
     "data": {
      "text/plain": [
       "['S',\n",
       " 'a',\n",
       " 'y',\n",
       " 'a',\n",
       " ' ',\n",
       " 's',\n",
       " 'e',\n",
       " 'n',\n",
       " 'a',\n",
       " 'n',\n",
       " 'g',\n",
       " ' ',\n",
       " 'b',\n",
       " 'e',\n",
       " 'l',\n",
       " 'a',\n",
       " 'j',\n",
       " 'a',\n",
       " 'r',\n",
       " ' ',\n",
       " 'p',\n",
       " 'y',\n",
       " 't',\n",
       " 'h',\n",
       " 'o',\n",
       " 'n']"
      ]
     },
     "execution_count": 41,
     "metadata": {},
     "output_type": "execute_result"
    }
   ],
   "source": [
    "baru = list(\"Saya senang belajar python\")\n",
    "baru"
   ]
  },
  {
   "cell_type": "code",
   "execution_count": 44,
   "id": "b75cb520",
   "metadata": {},
   "outputs": [
    {
     "name": "stdout",
     "output_type": "stream",
     "text": [
      "[1, 3, 5, 7, 9, 2, 4, 6, 8, 10]\n",
      "[[1, 3, 5, 7, 9], [2, 4, 6, 8, 10]]\n"
     ]
    }
   ],
   "source": [
    "ganjil = [1,3,5,7,9]\n",
    "genap = [2,4,6,8,10]\n",
    "\n",
    "angka = ganjil+ genap\n",
    "print(angka)\n",
    "\n",
    "bilangan = [ganjil,genap]\n",
    "print(bilangan)"
   ]
  },
  {
   "cell_type": "code",
   "execution_count": 47,
   "id": "057873d3",
   "metadata": {},
   "outputs": [
    {
     "name": "stdout",
     "output_type": "stream",
     "text": [
      "[1, 3, 5, 7, 9]\n",
      "hasil output 1\n",
      "hasil output 3\n",
      "hasil output 5\n",
      "hasil output 7\n",
      "hasil output 9\n",
      "[2, 4, 6, 8, 10]\n",
      "hasil output 2\n",
      "hasil output 4\n",
      "hasil output 6\n",
      "hasil output 8\n",
      "hasil output 10\n"
     ]
    }
   ],
   "source": [
    "for apapun in bilangan:\n",
    "    print(apapun)\n",
    "    for hasil in apapun:\n",
    "        print(\"hasil output {}\".format(hasil))"
   ]
  },
  {
   "cell_type": "code",
   "execution_count": null,
   "id": "a53d85cd",
   "metadata": {},
   "outputs": [],
   "source": []
  }
 ],
 "metadata": {
  "kernelspec": {
   "display_name": "Python 3",
   "language": "python",
   "name": "python3"
  },
  "language_info": {
   "codemirror_mode": {
    "name": "ipython",
    "version": 3
   },
   "file_extension": ".py",
   "mimetype": "text/x-python",
   "name": "python",
   "nbconvert_exporter": "python",
   "pygments_lexer": "ipython3",
   "version": "3.8.8"
  }
 },
 "nbformat": 4,
 "nbformat_minor": 5
}
