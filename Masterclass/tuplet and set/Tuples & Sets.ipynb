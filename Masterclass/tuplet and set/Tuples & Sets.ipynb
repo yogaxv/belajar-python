{
 "cells": [
  {
   "cell_type": "markdown",
   "id": "63e5f7ce",
   "metadata": {},
   "source": [
    "# Tuple\n",
    "\n",
    "## Pengertian\n",
    "\n",
    "tuples bersifat immutable (tidak bisa diubah isinya, hanya di assign object baru)"
   ]
  },
  {
   "cell_type": "code",
   "execution_count": 1,
   "id": "db9afcc1",
   "metadata": {},
   "outputs": [],
   "source": [
    "var1 = (1,2,3,4,5)"
   ]
  },
  {
   "cell_type": "code",
   "execution_count": 2,
   "id": "779bd985",
   "metadata": {},
   "outputs": [],
   "source": [
    "var2 = 1,2,3,4,5"
   ]
  },
  {
   "cell_type": "code",
   "execution_count": 3,
   "id": "57d143e9",
   "metadata": {},
   "outputs": [
    {
     "data": {
      "text/plain": [
       "tuple"
      ]
     },
     "execution_count": 3,
     "metadata": {},
     "output_type": "execute_result"
    }
   ],
   "source": [
    "type(var1)"
   ]
  },
  {
   "cell_type": "code",
   "execution_count": 4,
   "id": "cf3d6efc",
   "metadata": {},
   "outputs": [
    {
     "data": {
      "text/plain": [
       "tuple"
      ]
     },
     "execution_count": 4,
     "metadata": {},
     "output_type": "execute_result"
    }
   ],
   "source": [
    "type(var2)"
   ]
  },
  {
   "cell_type": "code",
   "execution_count": 5,
   "id": "ebc7ddd8",
   "metadata": {},
   "outputs": [
    {
     "data": {
      "text/plain": [
       "1"
      ]
     },
     "execution_count": 5,
     "metadata": {},
     "output_type": "execute_result"
    }
   ],
   "source": [
    "var1[0]"
   ]
  },
  {
   "cell_type": "code",
   "execution_count": 6,
   "id": "0f8cb664",
   "metadata": {},
   "outputs": [
    {
     "ename": "TypeError",
     "evalue": "'tuple' object does not support item assignment",
     "output_type": "error",
     "traceback": [
      "\u001b[1;31m---------------------------------------------------------------------------\u001b[0m",
      "\u001b[1;31mTypeError\u001b[0m                                 Traceback (most recent call last)",
      "\u001b[1;32m<ipython-input-6-109c1d683e99>\u001b[0m in \u001b[0;36m<module>\u001b[1;34m\u001b[0m\n\u001b[1;32m----> 1\u001b[1;33m \u001b[0mvar1\u001b[0m\u001b[1;33m[\u001b[0m\u001b[1;36m0\u001b[0m\u001b[1;33m]\u001b[0m \u001b[1;33m=\u001b[0m \u001b[1;36m8\u001b[0m\u001b[1;33m\u001b[0m\u001b[1;33m\u001b[0m\u001b[0m\n\u001b[0m",
      "\u001b[1;31mTypeError\u001b[0m: 'tuple' object does not support item assignment"
     ]
    }
   ],
   "source": [
    "var1[0] = 8"
   ]
  },
  {
   "cell_type": "code",
   "execution_count": 7,
   "id": "e1b5f15c",
   "metadata": {},
   "outputs": [
    {
     "data": {
      "text/plain": [
       "5"
      ]
     },
     "execution_count": 7,
     "metadata": {},
     "output_type": "execute_result"
    }
   ],
   "source": [
    "var1[4]"
   ]
  },
  {
   "cell_type": "code",
   "execution_count": 8,
   "id": "1de56efa",
   "metadata": {},
   "outputs": [
    {
     "data": {
      "text/plain": [
       "5"
      ]
     },
     "execution_count": 8,
     "metadata": {},
     "output_type": "execute_result"
    }
   ],
   "source": [
    "var1[-1]"
   ]
  },
  {
   "cell_type": "code",
   "execution_count": 9,
   "id": "d00148a1",
   "metadata": {},
   "outputs": [
    {
     "data": {
      "text/plain": [
       "(1, 2, 'jeruk', 4, 5)"
      ]
     },
     "execution_count": 9,
     "metadata": {},
     "output_type": "execute_result"
    }
   ],
   "source": [
    "var1 = var1[0],var1[1],'jeruk',var1[3], var1[4]\n",
    "var1"
   ]
  },
  {
   "cell_type": "code",
   "execution_count": 10,
   "id": "e0a97987",
   "metadata": {},
   "outputs": [],
   "source": [
    "var1 = list(var1)"
   ]
  },
  {
   "cell_type": "code",
   "execution_count": 11,
   "id": "386625f7",
   "metadata": {},
   "outputs": [],
   "source": [
    "var1[3] = \"Apple\""
   ]
  },
  {
   "cell_type": "code",
   "execution_count": 12,
   "id": "7b05ae51",
   "metadata": {},
   "outputs": [
    {
     "data": {
      "text/plain": [
       "[1, 2, 'jeruk', 'Apple', 5]"
      ]
     },
     "execution_count": 12,
     "metadata": {},
     "output_type": "execute_result"
    }
   ],
   "source": [
    "var1"
   ]
  },
  {
   "cell_type": "code",
   "execution_count": 13,
   "id": "b951b101",
   "metadata": {},
   "outputs": [],
   "source": [
    "var1 = tuple(var1)"
   ]
  },
  {
   "cell_type": "code",
   "execution_count": 14,
   "id": "573396b2",
   "metadata": {},
   "outputs": [
    {
     "data": {
      "text/plain": [
       "tuple"
      ]
     },
     "execution_count": 14,
     "metadata": {},
     "output_type": "execute_result"
    }
   ],
   "source": [
    "type(var1)"
   ]
  },
  {
   "cell_type": "markdown",
   "id": "6f5f3011",
   "metadata": {},
   "source": [
    "## Method"
   ]
  },
  {
   "cell_type": "code",
   "execution_count": 16,
   "id": "e6277f9a",
   "metadata": {},
   "outputs": [
    {
     "data": {
      "text/plain": [
       "1"
      ]
     },
     "execution_count": 16,
     "metadata": {},
     "output_type": "execute_result"
    }
   ],
   "source": [
    "var1.count('jeruk')"
   ]
  },
  {
   "cell_type": "code",
   "execution_count": 18,
   "id": "43bbb5bf",
   "metadata": {},
   "outputs": [
    {
     "data": {
      "text/plain": [
       "2"
      ]
     },
     "execution_count": 18,
     "metadata": {},
     "output_type": "execute_result"
    }
   ],
   "source": [
    "var1.index('jeruk')"
   ]
  },
  {
   "cell_type": "markdown",
   "id": "10000864",
   "metadata": {},
   "source": [
    "## Multiple Assignment & Tuples"
   ]
  },
  {
   "cell_type": "code",
   "execution_count": 19,
   "id": "97c47251",
   "metadata": {},
   "outputs": [],
   "source": [
    "a,b,c,d = 1,2,3,4"
   ]
  },
  {
   "cell_type": "code",
   "execution_count": 20,
   "id": "746a85e0",
   "metadata": {},
   "outputs": [
    {
     "name": "stdout",
     "output_type": "stream",
     "text": [
      "a = 1, b = 2, c = 3, d = 4\n"
     ]
    }
   ],
   "source": [
    "print(\"a = {}, b = {}, c = {}, d = {}\".format(a,b,c,d))"
   ]
  },
  {
   "cell_type": "code",
   "execution_count": 21,
   "id": "cca5f277",
   "metadata": {},
   "outputs": [
    {
     "name": "stdout",
     "output_type": "stream",
     "text": [
      "a = content, b = content, c = content, d = content\n"
     ]
    }
   ],
   "source": [
    "a = b = c = d = 'content'\n",
    "print(\"a = {}, b = {}, c = {}, d = {}\".format(a,b,c,d))"
   ]
  },
  {
   "cell_type": "code",
   "execution_count": 22,
   "id": "4538255d",
   "metadata": {},
   "outputs": [],
   "source": [
    "a,b = 1,2"
   ]
  },
  {
   "cell_type": "code",
   "execution_count": 23,
   "id": "665090bd",
   "metadata": {},
   "outputs": [
    {
     "name": "stdout",
     "output_type": "stream",
     "text": [
      "a = 1, b = 2\n"
     ]
    }
   ],
   "source": [
    "print(\"a = {}, b = {}\".format(a,b))"
   ]
  },
  {
   "cell_type": "code",
   "execution_count": 24,
   "id": "c396ab92",
   "metadata": {},
   "outputs": [
    {
     "name": "stdout",
     "output_type": "stream",
     "text": [
      "a = 2, b = 1\n"
     ]
    }
   ],
   "source": [
    "a,b = b,a\n",
    "print(\"a = {}, b = {}\".format(a,b))"
   ]
  },
  {
   "cell_type": "code",
   "execution_count": 25,
   "id": "2ee20f03",
   "metadata": {},
   "outputs": [
    {
     "name": "stdout",
     "output_type": "stream",
     "text": [
      "item1 = rambutan, item2 = 1, item3 = 42.343, item4 = [1, 2, 3, 4]\n"
     ]
    }
   ],
   "source": [
    "items = (\"rambutan\", 1, 42.343, [1,2,3,4])\n",
    "item1, item2, item3, item4 = items\n",
    "print(\"item1 = {}, item2 = {}, item3 = {}, item4 = {}\".format(item1,item2,item3,item4))"
   ]
  },
  {
   "cell_type": "code",
   "execution_count": 26,
   "id": "a3fb4ed8",
   "metadata": {},
   "outputs": [
    {
     "ename": "ValueError",
     "evalue": "not enough values to unpack (expected 5, got 4)",
     "output_type": "error",
     "traceback": [
      "\u001b[1;31m---------------------------------------------------------------------------\u001b[0m",
      "\u001b[1;31mValueError\u001b[0m                                Traceback (most recent call last)",
      "\u001b[1;32m<ipython-input-26-18fa4d6cf416>\u001b[0m in \u001b[0;36m<module>\u001b[1;34m\u001b[0m\n\u001b[1;32m----> 1\u001b[1;33m \u001b[0mitem1\u001b[0m\u001b[1;33m,\u001b[0m \u001b[0mitem2\u001b[0m\u001b[1;33m,\u001b[0m \u001b[0mitem3\u001b[0m\u001b[1;33m,\u001b[0m \u001b[0mitem4\u001b[0m\u001b[1;33m,\u001b[0m \u001b[0mitem5\u001b[0m \u001b[1;33m=\u001b[0m \u001b[0mitems\u001b[0m\u001b[1;33m\u001b[0m\u001b[1;33m\u001b[0m\u001b[0m\n\u001b[0m",
      "\u001b[1;31mValueError\u001b[0m: not enough values to unpack (expected 5, got 4)"
     ]
    }
   ],
   "source": [
    "item1, item2, item3, item4, item5 = items"
   ]
  },
  {
   "cell_type": "markdown",
   "id": "86e14666",
   "metadata": {},
   "source": [
    "# Set\n",
    "## Pengertian\n",
    "Sets adalah sebuah type data untuk element yang bersifat unik (tanpa duplikasi) dan tidak berurutan."
   ]
  },
  {
   "cell_type": "code",
   "execution_count": 27,
   "id": "60d077bc",
   "metadata": {},
   "outputs": [
    {
     "data": {
      "text/plain": [
       "set"
      ]
     },
     "execution_count": 27,
     "metadata": {},
     "output_type": "execute_result"
    }
   ],
   "source": [
    "set1 = set()\n",
    "set"
   ]
  },
  {
   "cell_type": "code",
   "execution_count": 29,
   "id": "b401d29e",
   "metadata": {},
   "outputs": [
    {
     "data": {
      "text/plain": [
       "{'biru'}"
      ]
     },
     "execution_count": 29,
     "metadata": {},
     "output_type": "execute_result"
    }
   ],
   "source": [
    "set1.add(\"biru\")\n",
    "set1"
   ]
  },
  {
   "cell_type": "code",
   "execution_count": 30,
   "id": "e10f9430",
   "metadata": {},
   "outputs": [
    {
     "data": {
      "text/plain": [
       "{'biru', 'kuning'}"
      ]
     },
     "execution_count": 30,
     "metadata": {},
     "output_type": "execute_result"
    }
   ],
   "source": [
    "set1.add(\"kuning\")\n",
    "set1"
   ]
  },
  {
   "cell_type": "code",
   "execution_count": 31,
   "id": "34d09e4f",
   "metadata": {},
   "outputs": [
    {
     "data": {
      "text/plain": [
       "{'biru', 'kuning'}"
      ]
     },
     "execution_count": 31,
     "metadata": {},
     "output_type": "execute_result"
    }
   ],
   "source": [
    "set1.add(\"kuning\")\n",
    "set1"
   ]
  },
  {
   "cell_type": "code",
   "execution_count": 32,
   "id": "bf76bd8b",
   "metadata": {},
   "outputs": [],
   "source": [
    "list_angka = [1,2,3,4,4,5,22,3,4,45,2,2,5]"
   ]
  },
  {
   "cell_type": "code",
   "execution_count": 33,
   "id": "e30bb31f",
   "metadata": {},
   "outputs": [
    {
     "data": {
      "text/plain": [
       "{1, 2, 3, 4, 5, 22, 45}"
      ]
     },
     "execution_count": 33,
     "metadata": {},
     "output_type": "execute_result"
    }
   ],
   "source": [
    "set_angka = set(list_angka)\n",
    "set_angka"
   ]
  },
  {
   "cell_type": "code",
   "execution_count": null,
   "id": "1d464ae0",
   "metadata": {},
   "outputs": [],
   "source": []
  }
 ],
 "metadata": {
  "kernelspec": {
   "display_name": "Python 3",
   "language": "python",
   "name": "python3"
  },
  "language_info": {
   "codemirror_mode": {
    "name": "ipython",
    "version": 3
   },
   "file_extension": ".py",
   "mimetype": "text/x-python",
   "name": "python",
   "nbconvert_exporter": "python",
   "pygments_lexer": "ipython3",
   "version": "3.8.8"
  }
 },
 "nbformat": 4,
 "nbformat_minor": 5
}
