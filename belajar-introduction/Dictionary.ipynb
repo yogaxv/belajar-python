{
 "cells": [
  {
   "cell_type": "markdown",
   "id": "8a2adbdf",
   "metadata": {},
   "source": [
    "# Perbedaan Dictionary dengan List\n",
    "\n",
    "Dictionary :\n",
    "- Tidak memiliki urutan\n",
    "- Pengambilan item dengan cara menggunakan 'key'\n",
    "- Format -> dict1 = {'key1': item, 'key2':item}\n",
    "\n",
    "List :\n",
    "- Memiliki urutan\n",
    "- Pengambilan item dengan memanggil indexnya (urutan item)\n",
    "- formt -> list1 = [item1, item2, item3]"
   ]
  },
  {
   "cell_type": "code",
   "execution_count": 1,
   "id": "5f079a97",
   "metadata": {},
   "outputs": [
    {
     "name": "stdout",
     "output_type": "stream",
     "text": [
      "{'firstName': 'yoga', 'lastName': 'Prasetiyo', 'nik': '320115150920009'}\n"
     ]
    }
   ],
   "source": [
    "dict1 = {'firstName':'yoga','lastName':'Prasetiyo','nik':'320115150920009'}\n",
    "print(dict1)"
   ]
  },
  {
   "cell_type": "code",
   "execution_count": 6,
   "id": "7f0c323c",
   "metadata": {},
   "outputs": [
    {
     "name": "stdout",
     "output_type": "stream",
     "text": [
      "nik dari yoga Prasetiyo adalah 320115150920009\n"
     ]
    }
   ],
   "source": [
    "print(\"nik dari {} adalah {}\".format(dict1['firstName']+ \" \" + dict1['lastName'], dict1['nik']))"
   ]
  },
  {
   "cell_type": "code",
   "execution_count": 12,
   "id": "872366c1",
   "metadata": {},
   "outputs": [
    {
     "name": "stdout",
     "output_type": "stream",
     "text": [
      "20.5\n",
      "Afri\n",
      "AFRI\n"
     ]
    }
   ],
   "source": [
    "dict2 = {'firstName':'yoga','lastName':'Prasetiyo','nik':'320115150920009', 'array': ['a','b',20.5], 'istri':{'firstName':'Afri','lastName':'Dwi' }}\n",
    "print(dict2['array'][2])\n",
    "print(dict2['istri']['firstName'])\n",
    "print(dict2['istri']['firstName'].upper())"
   ]
  },
  {
   "cell_type": "code",
   "execution_count": 9,
   "id": "16f5175f",
   "metadata": {},
   "outputs": [
    {
     "data": {
      "text/plain": [
       "dict_keys(['firstName', 'lastName', 'nik', 'array', 'istri'])"
      ]
     },
     "execution_count": 9,
     "metadata": {},
     "output_type": "execute_result"
    }
   ],
   "source": [
    "dict2.keys()"
   ]
  },
  {
   "cell_type": "code",
   "execution_count": 10,
   "id": "b5f00e41",
   "metadata": {},
   "outputs": [
    {
     "data": {
      "text/plain": [
       "dict_values(['yoga', 'Prasetiyo', '320115150920009', ['a', 'b', 20.5], {'firstName': 'Afri', 'lastName': 'Dwi'}])"
      ]
     },
     "execution_count": 10,
     "metadata": {},
     "output_type": "execute_result"
    }
   ],
   "source": [
    "dict2.values()"
   ]
  },
  {
   "cell_type": "code",
   "execution_count": 11,
   "id": "5d1019b7",
   "metadata": {},
   "outputs": [
    {
     "data": {
      "text/plain": [
       "dict_items([('firstName', 'yoga'), ('lastName', 'Prasetiyo'), ('nik', '320115150920009'), ('array', ['a', 'b', 20.5]), ('istri', {'firstName': 'Afri', 'lastName': 'Dwi'})])"
      ]
     },
     "execution_count": 11,
     "metadata": {},
     "output_type": "execute_result"
    }
   ],
   "source": [
    "dict2.items()"
   ]
  },
  {
   "cell_type": "code",
   "execution_count": null,
   "id": "5b7fed7b",
   "metadata": {},
   "outputs": [],
   "source": []
  }
 ],
 "metadata": {
  "kernelspec": {
   "display_name": "Python 3",
   "language": "python",
   "name": "python3"
  },
  "language_info": {
   "codemirror_mode": {
    "name": "ipython",
    "version": 3
   },
   "file_extension": ".py",
   "mimetype": "text/x-python",
   "name": "python",
   "nbconvert_exporter": "python",
   "pygments_lexer": "ipython3",
   "version": "3.8.8"
  }
 },
 "nbformat": 4,
 "nbformat_minor": 5
}
