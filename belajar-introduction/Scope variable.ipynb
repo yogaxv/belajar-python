{
 "cells": [
  {
   "cell_type": "markdown",
   "id": "3115b2d4",
   "metadata": {},
   "source": [
    "# Urutan eksekusi Python"
   ]
  },
  {
   "cell_type": "markdown",
   "id": "98100c3a",
   "metadata": {},
   "source": [
    "- L ( Local ) = variable yang bersifat lokal, yang biasanya berada dalam fungsi (def/lambda) tertentu.\n",
    "- E ( Enclosing Function Local ) = variable ini berada di dalam fungsi (def/lamda) mulai dari lingkup terdalam hingga terluar.\n",
    "- G ( Global ) = variable ini didefinisikan di luar, biasanya di tahap awal.\n",
    "- B ( built-in ) = variable bawaan python, seperti list, str, upper, dll"
   ]
  },
  {
   "cell_type": "code",
   "execution_count": 2,
   "id": "9545aa3a",
   "metadata": {},
   "outputs": [
    {
     "name": "stdout",
     "output_type": "stream",
     "text": [
      "1000\n"
     ]
    }
   ],
   "source": [
    "a = 1000 # Global variable\n",
    "\n",
    "def jumlah():\n",
    "    a = 79 # Local variable\n",
    "    return a\n",
    "\n",
    "print(a)"
   ]
  },
  {
   "cell_type": "code",
   "execution_count": 6,
   "id": "7f3a3ae3",
   "metadata": {},
   "outputs": [
    {
     "name": "stdout",
     "output_type": "stream",
     "text": [
      "hasilnya adalah saya lokal banget\n"
     ]
    }
   ],
   "source": [
    "kalimat = 'saya adalah global'\n",
    "\n",
    "def cetak():\n",
    "    #kalimat = 'saya adalah local'\n",
    "    \n",
    "    def eksekusi():\n",
    "        kalimat = \"saya lokal banget\"\n",
    "        print('hasilnya adalah', kalimat)\n",
    "        \n",
    "    eksekusi()\n",
    "    \n",
    "cetak()"
   ]
  },
  {
   "cell_type": "code",
   "execution_count": 16,
   "id": "90af9630",
   "metadata": {},
   "outputs": [
    {
     "name": "stdout",
     "output_type": "stream",
     "text": [
      "Angka = 99\n",
      "Angkanya sekarang saya rubah menjadi 300\n",
      "99\n"
     ]
    }
   ],
   "source": [
    "angka = 99\n",
    "\n",
    "def tulis(angka):\n",
    "    print(f'Angka = {angka}')\n",
    "    # print('Angka = {}'.format(angka))\n",
    "    \n",
    "    # Definisikan ulang sebuah variable fungsi\n",
    "    angka = 300\n",
    "    print(f'Angkanya sekarang saya rubah menjadi {angka}')\n",
    "    \n",
    "tulis(angka)\n",
    "print(angka) # variable global tidak dipengaruhi sebuah fungsi"
   ]
  },
  {
   "cell_type": "code",
   "execution_count": 24,
   "id": "72c475fa",
   "metadata": {},
   "outputs": [
    {
     "name": "stdout",
     "output_type": "stream",
     "text": [
      "Angkanya sekarang saya rubah menjadi 300\n",
      "300\n"
     ]
    }
   ],
   "source": [
    "angka2 = 99\n",
    "\n",
    "def tulis2():\n",
    "    # mengambail varible global angka2\n",
    "    # harus hati-hati menggunakan variable global\n",
    "    global angka2\n",
    "    \n",
    "    # Definisikan ulang sebuah variable fungsi\n",
    "    angka2 = 300\n",
    "    print(f'Angkanya sekarang saya rubah menjadi {angka2}')\n",
    "    \n",
    "tulis2()\n",
    "print(angka2) # variable global terpengaruh karena menggunakan global variable"
   ]
  },
  {
   "cell_type": "code",
   "execution_count": null,
   "id": "be70d933",
   "metadata": {},
   "outputs": [],
   "source": []
  }
 ],
 "metadata": {
  "kernelspec": {
   "display_name": "Python 3",
   "language": "python",
   "name": "python3"
  },
  "language_info": {
   "codemirror_mode": {
    "name": "ipython",
    "version": 3
   },
   "file_extension": ".py",
   "mimetype": "text/x-python",
   "name": "python",
   "nbconvert_exporter": "python",
   "pygments_lexer": "ipython3",
   "version": "3.8.8"
  }
 },
 "nbformat": 4,
 "nbformat_minor": 5
}
