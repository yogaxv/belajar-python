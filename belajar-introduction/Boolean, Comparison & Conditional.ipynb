{
 "cells": [
  {
   "cell_type": "markdown",
   "id": "d75b2ece",
   "metadata": {},
   "source": [
    "# Boolean ( Bool ) : Type data yang berisi False / True"
   ]
  },
  {
   "cell_type": "code",
   "execution_count": 1,
   "id": "c82d60db",
   "metadata": {},
   "outputs": [],
   "source": [
    "a = 10\n",
    "b = 25"
   ]
  },
  {
   "cell_type": "code",
   "execution_count": 2,
   "id": "edbd1ada",
   "metadata": {},
   "outputs": [
    {
     "name": "stdout",
     "output_type": "stream",
     "text": [
      "False\n",
      "True\n",
      "False\n",
      "False\n",
      "True\n",
      "True\n"
     ]
    }
   ],
   "source": [
    "print(a == b)\n",
    "print(a != b)\n",
    "print(a > b)\n",
    "print(a >= b)\n",
    "print(a < b)\n",
    "print(a <= b)"
   ]
  },
  {
   "cell_type": "markdown",
   "id": "cab56f4b",
   "metadata": {},
   "source": [
    "# and,or dan not\n",
    "and = dua kondisi harus True untuk menghasilkan True\n",
    "or = salah satu kondisi harus True untuk menghasilkan True\n",
    "not = memberikan nilai sebaliknya"
   ]
  },
  {
   "cell_type": "code",
   "execution_count": 5,
   "id": "8e542ed0",
   "metadata": {},
   "outputs": [
    {
     "name": "stdout",
     "output_type": "stream",
     "text": [
      "False\n",
      "True\n",
      "True\n",
      "False\n"
     ]
    }
   ],
   "source": [
    "print(a < b and b == a)\n",
    "print(a < b or b == a)\n",
    "print(not (a < b and b == a))\n",
    "print(not (a < b or b == a))"
   ]
  },
  {
   "cell_type": "code",
   "execution_count": 9,
   "id": "338376ee",
   "metadata": {},
   "outputs": [
    {
     "name": "stdout",
     "output_type": "stream",
     "text": [
      "hasil dari 2<3<4 (2<3 and 3<4) adalah : True\n",
      "hasil dari not(2<3<4) (2<3 and 3<4) adalah : False\n"
     ]
    }
   ],
   "source": [
    "print(\"hasil dari 2<3<4 (2<3 and 3<4) adalah : {}\".format(2<3<4))\n",
    "print(\"hasil dari not(2<3<4) (2<3 and 3<4) adalah : {}\".format(not (2<3<4) ))"
   ]
  },
  {
   "cell_type": "markdown",
   "id": "9ffb0bf7",
   "metadata": {},
   "source": [
    "# Conditional\n",
    "```\n",
    "if(True): \n",
    "    eksekusi\n",
    "elif(True):\n",
    "    eksekusi\n",
    "else:\n",
    "    eksekusi\n",
    "```"
   ]
  },
  {
   "cell_type": "code",
   "execution_count": 10,
   "id": "2f996787",
   "metadata": {},
   "outputs": [
    {
     "name": "stdout",
     "output_type": "stream",
     "text": [
      "berhasil\n"
     ]
    }
   ],
   "source": [
    "if not False:\n",
    "    print(\"berhasil\")"
   ]
  },
  {
   "cell_type": "code",
   "execution_count": 12,
   "id": "f3e7f3c8",
   "metadata": {},
   "outputs": [
    {
     "name": "stdout",
     "output_type": "stream",
     "text": [
      "else\n"
     ]
    }
   ],
   "source": [
    "if False:\n",
    "    print(\"berhasil\")\n",
    "else :\n",
    "    print(\"else\")"
   ]
  },
  {
   "cell_type": "code",
   "execution_count": null,
   "id": "d51a8380",
   "metadata": {},
   "outputs": [],
   "source": []
  }
 ],
 "metadata": {
  "kernelspec": {
   "display_name": "Python 3",
   "language": "python",
   "name": "python3"
  },
  "language_info": {
   "codemirror_mode": {
    "name": "ipython",
    "version": 3
   },
   "file_extension": ".py",
   "mimetype": "text/x-python",
   "name": "python",
   "nbconvert_exporter": "python",
   "pygments_lexer": "ipython3",
   "version": "3.8.8"
  }
 },
 "nbformat": 4,
 "nbformat_minor": 5
}
