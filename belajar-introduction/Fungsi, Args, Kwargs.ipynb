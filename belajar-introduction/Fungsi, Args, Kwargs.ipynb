{
 "cells": [
  {
   "cell_type": "markdown",
   "id": "ee028ade",
   "metadata": {},
   "source": [
    "# Function\n",
    "\n",
    "penulisan coding :\n",
    "```\n",
    "def functionName(variable):\n",
    "    '''\n",
    "    docstring = sebuah komentar untuk dibaca\n",
    "    '''\n",
    "    execute\n",
    "    return/print\n",
    "```\n",
    "\n",
    "- return digunakan untuk mendefisinikan hasil fungsi ke variable\n",
    "- print digunakan jika hanya ingin mencetak hasil dari fungsinya\n",
    "\n",
    "Sample bisa dilihat dibawah ini :"
   ]
  },
  {
   "cell_type": "code",
   "execution_count": 21,
   "id": "aed99014",
   "metadata": {},
   "outputs": [
    {
     "name": "stdout",
     "output_type": "stream",
     "text": [
      "Ini dicetak dari fungsi printSentence\n"
     ]
    }
   ],
   "source": [
    "'''\n",
    "ini adalah fungsi cetak kalimat\n",
    "'''\n",
    "# contoh lain untuk melakukan komentar\n",
    "def printSentence():\n",
    "    print(\"Ini dicetak dari fungsi printSentence\")\n",
    "    \n",
    "printSentence()"
   ]
  },
  {
   "cell_type": "code",
   "execution_count": 20,
   "id": "01a11202",
   "metadata": {},
   "outputs": [
    {
     "name": "stdout",
     "output_type": "stream",
     "text": [
      "1\n",
      "2\n",
      "3\n",
      "4\n"
     ]
    }
   ],
   "source": [
    "def loopList(a):\n",
    "    for item in a:\n",
    "        print(item)\n",
    "        \n",
    "a = list(range(1,5))\n",
    "\n",
    "loopList(a)"
   ]
  },
  {
   "cell_type": "code",
   "execution_count": 14,
   "id": "7893f187",
   "metadata": {},
   "outputs": [
    {
     "data": {
      "text/plain": [
       "<function list.append(object, /)>"
      ]
     },
     "execution_count": 14,
     "metadata": {},
     "output_type": "execute_result"
    }
   ],
   "source": [
    "a.append"
   ]
  },
  {
   "cell_type": "code",
   "execution_count": 24,
   "id": "0e985021",
   "metadata": {},
   "outputs": [
    {
     "name": "stdout",
     "output_type": "stream",
     "text": [
      "50\n",
      "<class 'NoneType'>\n",
      "<class 'int'>\n"
     ]
    }
   ],
   "source": [
    "def perkalian(a,b):\n",
    "    return a*b\n",
    "\n",
    "def printPerkalian(a,b):\n",
    "    print( a*b )\n",
    "    \n",
    "print(type(printPerkalian(10,5)))\n",
    "print(type(perkalian(10,5)))"
   ]
  },
  {
   "cell_type": "code",
   "execution_count": 28,
   "id": "c4d5e847",
   "metadata": {},
   "outputs": [
    {
     "name": "stdout",
     "output_type": "stream",
     "text": [
      "Saya sedang belajar Python\n",
      "Saya sedang belajar Pemprograman\n"
     ]
    }
   ],
   "source": [
    "# menggunakan nilai default :\n",
    "def belajar(var = \"Python\"):\n",
    "    print(\"Saya sedang belajar\",var)\n",
    "\n",
    "belajar()\n",
    "belajar(\"Pemprograman\")"
   ]
  },
  {
   "cell_type": "code",
   "execution_count": 29,
   "id": "f64c4543",
   "metadata": {},
   "outputs": [
    {
     "name": "stdout",
     "output_type": "stream",
     "text": [
      "3 adalah bilangan ganjil\n"
     ]
    }
   ],
   "source": [
    "def ganjil_genap(num):\n",
    "    if num % 2 == 0:\n",
    "        print(num,\"adalah bilangan genap\")\n",
    "    else:\n",
    "        print(num, \"adalah bilangan ganjil\")\n",
    "        \n",
    "ganjil_genap(3)"
   ]
  },
  {
   "cell_type": "code",
   "execution_count": 45,
   "id": "1ff151a1",
   "metadata": {},
   "outputs": [
    {
     "name": "stdout",
     "output_type": "stream",
     "text": [
      "Python Berhasil ditemukan pada kalimat 'Ternyata belajar Python itu Mudah'\n",
      "Yoga tidak ditemukan pada kalimat 'Ternyata belajar Python itu Mudah'\n",
      "Python tidak ditemukan pada kalimat 'Yoga Prasetiyo'\n",
      "Yoga Berhasil ditemukan pada kalimat 'Yoga Prasetiyo'\n"
     ]
    }
   ],
   "source": [
    "# Jalankan fungsi pencarian menggunakan loop\n",
    "def temukanKata(kata, kalimat):\n",
    "    return kata.lower() in kalimat.lower()\n",
    "\n",
    "# Pencarian Kata pada Kalimat, Jika ditemukan print ditemukan\n",
    "def isDitemukan(kata = 'Python', kalimat = \"Ternyata belajar Python itu Mudah\"):\n",
    "    result = temukanKata(kata, kalimat)\n",
    "    if result:\n",
    "        print(\"{} Berhasil ditemukan pada kalimat '{}'\".format(kata,kalimat))\n",
    "    else:\n",
    "        print(\"{} tidak ditemukan pada kalimat '{}'\".format(kata, kalimat))\n",
    "\n",
    "# Contoh Penggunaan\n",
    "isDitemukan()\n",
    "isDitemukan(\"Yoga\")\n",
    "isDitemukan(kalimat =\"Yoga Prasetiyo\")\n",
    "isDitemukan(\"Yoga\", \"Yoga Prasetiyo\")        "
   ]
  },
  {
   "cell_type": "code",
   "execution_count": 46,
   "id": "0484404f",
   "metadata": {},
   "outputs": [],
   "source": [
    "#Fungsi untuk melakukan input\n",
    "def testKalimat():\n",
    "    newkalimat = input(\"Masukan kalimat yang anda akan test\")\n",
    "    isDitemukan(kalimat = newkalimat)"
   ]
  },
  {
   "cell_type": "code",
   "execution_count": 47,
   "id": "a351c750",
   "metadata": {},
   "outputs": [
    {
     "name": "stdout",
     "output_type": "stream",
     "text": [
      "Masukan kalimat yang anda akan testpython adalah jiwa\n",
      "Python Berhasil ditemukan pada kalimat 'python adalah jiwa'\n"
     ]
    }
   ],
   "source": [
    "# Jalankan fungsi testKalimat()\n",
    "testKalimat()"
   ]
  },
  {
   "cell_type": "markdown",
   "id": "a10275d5",
   "metadata": {},
   "source": [
    "# \\*Args"
   ]
  },
  {
   "cell_type": "code",
   "execution_count": 56,
   "id": "ff5e88a4",
   "metadata": {},
   "outputs": [],
   "source": [
    "def jumlahBiasa(a,b,c,d):\n",
    "    return a + b + c +d\n",
    "\n",
    "# dengan menggunakan *args kita akan jadi lebih mudah\n",
    "# saat mendefinisikan variale pada fungsi\n",
    "def jumlahArgs(*args):\n",
    "    return sum(args)\n",
    "\n",
    "# Args akan selalu menghasilkan nilai tufle\n",
    "def checkArgs(*args):\n",
    "    print(args)"
   ]
  },
  {
   "cell_type": "code",
   "execution_count": 59,
   "id": "9e4cb431",
   "metadata": {},
   "outputs": [
    {
     "name": "stdout",
     "output_type": "stream",
     "text": [
      "10\n",
      "10\n",
      "10\n",
      "10\n"
     ]
    }
   ],
   "source": [
    "print(jumlahBiasa(1,2,3,4))\n",
    "print(jumlahArgs(1,2,3,4))\n",
    "print(sum([1,2,3,4]))\n",
    "print(sum((1,2,3,4)))"
   ]
  },
  {
   "cell_type": "code",
   "execution_count": 57,
   "id": "cd087d2d",
   "metadata": {},
   "outputs": [
    {
     "name": "stdout",
     "output_type": "stream",
     "text": [
      "(1, 2, 3, 4, 5)\n"
     ]
    }
   ],
   "source": [
    "checkArgs(1,2,3,4,5)"
   ]
  },
  {
   "cell_type": "markdown",
   "id": "73bcb280",
   "metadata": {},
   "source": [
    "# \\**Kwargs"
   ]
  },
  {
   "cell_type": "code",
   "execution_count": 63,
   "id": "063322a0",
   "metadata": {},
   "outputs": [
    {
     "name": "stdout",
     "output_type": "stream",
     "text": [
      "{'anak': 'Gemuk'}\n",
      "{'nama': 'yoga', 'umur': 27}\n"
     ]
    }
   ],
   "source": [
    "def checkKwargs(**kwargs):\n",
    "    print(kwargs)\n",
    "    \n",
    "checkKwargs(anak=\"Gemuk\")\n",
    "checkKwargs(nama=\"yoga\", umur=27)"
   ]
  },
  {
   "cell_type": "code",
   "execution_count": 66,
   "id": "5f497ed5",
   "metadata": {},
   "outputs": [
    {
     "name": "stdout",
     "output_type": "stream",
     "text": [
      "Budi ditemukan\n"
     ]
    }
   ],
   "source": [
    "def checkName(**kwargs):\n",
    "    if \"budi\" in kwargs.values():\n",
    "        print(\"Budi ditemukan\")\n",
    "    else:\n",
    "        print(\"Budi tidak ditemukan\")\n",
    "        \n",
    "checkName(name=\"budi\")"
   ]
  },
  {
   "cell_type": "code",
   "execution_count": 69,
   "id": "64aeae5f",
   "metadata": {},
   "outputs": [
    {
     "name": "stdout",
     "output_type": "stream",
     "text": [
      "Budi tergolong ke kategori Berat\n"
     ]
    }
   ],
   "source": [
    "def checkBerat(**kwargs):\n",
    "    if \"budi\" in kwargs:\n",
    "        print(\"Budi tergolong ke kategori {}\".format(kwargs['budi']))\n",
    "    else:\n",
    "        print(\"Budi tidak ditemukan\")\n",
    "        \n",
    "checkBerat(budi='Berat', joko='tidak berat')"
   ]
  },
  {
   "cell_type": "markdown",
   "id": "582dff3a",
   "metadata": {},
   "source": [
    "# Gabungan \\*args dan \\**kwargs"
   ]
  },
  {
   "cell_type": "code",
   "execution_count": 72,
   "id": "0b62c236",
   "metadata": {},
   "outputs": [
    {
     "name": "stdout",
     "output_type": "stream",
     "text": [
      "Saya ingin membeli 23 soto ayam secara tunai\n"
     ]
    }
   ],
   "source": [
    "def fungsiku(*args,**kwargs):\n",
    "    print(\"Saya ingin membeli {} {} secara tunai\".format(args[0], kwargs['makanan']))\n",
    "    \n",
    "fungsiku(23,34,123, buah='apel', makanan='soto ayam')"
   ]
  },
  {
   "cell_type": "code",
   "execution_count": null,
   "id": "3190a40b",
   "metadata": {},
   "outputs": [],
   "source": []
  }
 ],
 "metadata": {
  "kernelspec": {
   "display_name": "Python 3",
   "language": "python",
   "name": "python3"
  },
  "language_info": {
   "codemirror_mode": {
    "name": "ipython",
    "version": 3
   },
   "file_extension": ".py",
   "mimetype": "text/x-python",
   "name": "python",
   "nbconvert_exporter": "python",
   "pygments_lexer": "ipython3",
   "version": "3.8.8"
  }
 },
 "nbformat": 4,
 "nbformat_minor": 5
}
