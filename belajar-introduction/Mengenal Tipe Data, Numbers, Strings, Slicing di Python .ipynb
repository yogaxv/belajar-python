{
 "cells": [
  {
   "cell_type": "markdown",
   "id": "e13a6bff",
   "metadata": {},
   "source": [
    "## Mengenal Tipe Data, Numbers, Strings, Slicing di Python"
   ]
  },
  {
   "cell_type": "code",
   "execution_count": 1,
   "id": "902ef06d",
   "metadata": {},
   "outputs": [
    {
     "name": "stdout",
     "output_type": "stream",
     "text": [
      "Pyt\n",
      "Online Compile\n",
      "Python Online Compiler\n",
      "to nieCmie\n",
      "relipmoC enilnO nohtyP\n",
      "(1, '22', 'lis')\n",
      "[1, 2, 3, 4]\n",
      "{'apel', 'pisang', 'yuhuuhu'}\n",
      "{'0': 'Yoga', '1': 'Apri'}\n"
     ]
    }
   ],
   "source": [
    "a = \"Python Online Compiler\"\n",
    "print(a[0:3])\n",
    "print(a[7:-1])\n",
    "print(a[:])\n",
    "print(a[2:-1:2])\n",
    "print(a[::-1])\n",
    "\n",
    "tup = (1, \"22\", \"lis\")\n",
    "print(tup)\n",
    "\n",
    "list = [1,2,3,4]\n",
    "print(list)\n",
    "\n",
    "set = {\"apel\", \"pisang\", \"yuhuuhu\" }\n",
    "print(set)\n",
    "\n",
    "dict = {\"0\": \"Yoga\", \"1\": \"Apri\"}\n",
    "print(dict)\n",
    "\n"
   ]
  },
  {
   "cell_type": "code",
   "execution_count": 6,
   "id": "d9b684fe",
   "metadata": {},
   "outputs": [
    {
     "data": {
      "text/plain": [
       "['apple', 'grape', 'Watermelon']"
      ]
     },
     "execution_count": 6,
     "metadata": {},
     "output_type": "execute_result"
    }
   ],
   "source": [
    "item = [\"apple\", \"pisang\", \"grape\", \"banana\", \"avocade\", \"pinneaple\"]\n",
    "item[0::2]"
   ]
  },
  {
   "cell_type": "code",
   "execution_count": 18,
   "id": "a6e0b8ce",
   "metadata": {},
   "outputs": [
    {
     "data": {
      "text/plain": [
       "['apple', 'pisang', 'grape', 'banana', 'Watermelon', 'pinneaple']"
      ]
     },
     "execution_count": 18,
     "metadata": {},
     "output_type": "execute_result"
    }
   ],
   "source": [
    "item = [\"apple\", \"pisang\", \"grape\", \"banana\", \"avocade\", \"pinneaple\"]\n",
    "item[4] = \"Watermelon\"\n",
    "item"
   ]
  },
  {
   "cell_type": "code",
   "execution_count": 23,
   "id": "e4b4ba3d",
   "metadata": {},
   "outputs": [
    {
     "data": {
      "text/plain": [
       "'Yoga Prasetiyo '"
      ]
     },
     "execution_count": 23,
     "metadata": {},
     "output_type": "execute_result"
    }
   ],
   "source": [
    "first = \"Yoga\"\n",
    "last = \"Prasetiyo \"\n",
    "\n",
    "name = first + \" \"+ last\n",
    "name"
   ]
  },
  {
   "cell_type": "code",
   "execution_count": 13,
   "id": "fe592d9e",
   "metadata": {},
   "outputs": [
    {
     "data": {
      "text/plain": [
       "'Mouse_Mouse_Mouse_Mouse_Mouse_Mouse_Mouse_'"
      ]
     },
     "execution_count": 13,
     "metadata": {},
     "output_type": "execute_result"
    }
   ],
   "source": [
    "item = \"Mouse_\"\n",
    "item*7"
   ]
  },
  {
   "cell_type": "code",
   "execution_count": 22,
   "id": "b4dca3f9",
   "metadata": {},
   "outputs": [
    {
     "data": {
      "text/plain": [
       "'Yoga Prasetiyo Pergi ke Yogya_Pergi ke Yogya_'"
      ]
     },
     "execution_count": 22,
     "metadata": {},
     "output_type": "execute_result"
    }
   ],
   "source": [
    "name + \"Pergi ke Yogya_\"*2"
   ]
  },
  {
   "cell_type": "markdown",
   "id": "61081f65",
   "metadata": {},
   "source": [
    "## Method Python"
   ]
  },
  {
   "cell_type": "code",
   "execution_count": 29,
   "id": "b7051d74",
   "metadata": {},
   "outputs": [
    {
     "name": "stdout",
     "output_type": "stream",
     "text": [
      "MAKANAN 4 SEHAT 5 SEMPURNA\n",
      "makanan 4 sehat 5 sempurna\n"
     ]
    }
   ],
   "source": [
    "var1 = \"Makanan 4 Sehat 5 Sempurna\"\n",
    "upper = var1.upper()\n",
    "lower = var1.lower()\n",
    "\n",
    "print(upper)\n",
    "print(lower)"
   ]
  },
  {
   "cell_type": "code",
   "execution_count": 30,
   "id": "4f922b73",
   "metadata": {},
   "outputs": [
    {
     "data": {
      "text/plain": [
       "['Makanan', '4', 'Sehat', '5', 'Sempurna']"
      ]
     },
     "execution_count": 30,
     "metadata": {},
     "output_type": "execute_result"
    }
   ],
   "source": [
    "var1.split()"
   ]
  },
  {
   "cell_type": "markdown",
   "id": "300b3286",
   "metadata": {},
   "source": [
    "**'A' Sebagai Pemisah**"
   ]
  },
  {
   "cell_type": "code",
   "execution_count": 35,
   "id": "9d0ac4e4",
   "metadata": {},
   "outputs": [
    {
     "data": {
      "text/plain": [
       "['M', 'K', 'N', 'N 4 SEH', 'T 5 SEMPURN', '']"
      ]
     },
     "execution_count": 35,
     "metadata": {},
     "output_type": "execute_result"
    }
   ],
   "source": [
    "upper.split('A') "
   ]
  },
  {
   "cell_type": "markdown",
   "id": "49c4195a",
   "metadata": {},
   "source": [
    "``NLP = Natural Language Processing``"
   ]
  },
  {
   "cell_type": "code",
   "execution_count": 38,
   "id": "36614976",
   "metadata": {},
   "outputs": [
    {
     "data": {
      "text/plain": [
       "['yoga', 'afri', 'daniel', 'andro']"
      ]
     },
     "execution_count": 38,
     "metadata": {},
     "output_type": "execute_result"
    }
   ],
   "source": [
    "var2 = \"yoga;afri;daniel;andro\"\n",
    "var2.split(\";\")"
   ]
  },
  {
   "cell_type": "code",
   "execution_count": 39,
   "id": "027c93de",
   "metadata": {},
   "outputs": [
    {
     "data": {
      "text/plain": [
       "str"
      ]
     },
     "execution_count": 39,
     "metadata": {},
     "output_type": "execute_result"
    }
   ],
   "source": [
    "type(var2)"
   ]
  },
  {
   "cell_type": "markdown",
   "id": "14a61ffb",
   "metadata": {},
   "source": [
    "## Print Formating"
   ]
  },
  {
   "cell_type": "code",
   "execution_count": 3,
   "id": "3f272f58",
   "metadata": {},
   "outputs": [
    {
     "name": "stdout",
     "output_type": "stream",
     "text": [
      "Ini adalah 10 buah apple\n",
      "3 mall di kota bogor adalah Botani Square, Ekalokasari dan Bogor Trade Mall\n",
      "3 mall di kota bogor adalah Bogor Trade Mall, Botani Square dan Ekalokasari\n",
      "3 mall di kota bogor adalah Bogor Trade Mall, Ekalokasari dan Botani Square\n"
     ]
    }
   ],
   "source": [
    "print(\"Ini adalah {} buah apple\".format(\"10\"))\n",
    "print(\"3 mall di kota bogor adalah {}, {} dan {}\".format(\"Botani Square\", \"Ekalokasari\", \"Bogor Trade Mall\"))\n",
    "print(\"3 mall di kota bogor adalah {2}, {0} dan {1}\".format(\"Botani Square\", \"Ekalokasari\", \"Bogor Trade Mall\"))\n",
    "print(\"3 mall di kota bogor adalah {a}, {b} dan {c}\".format(c=\"Botani Square\", b=\"Ekalokasari\", a=\"Bogor Trade Mall\"))"
   ]
  },
  {
   "cell_type": "code",
   "execution_count": 4,
   "id": "2e5c67e4",
   "metadata": {},
   "outputs": [],
   "source": [
    "phi = 22/7"
   ]
  },
  {
   "cell_type": "code",
   "execution_count": 8,
   "id": "3d75071b",
   "metadata": {},
   "outputs": [
    {
     "name": "stdout",
     "output_type": "stream",
     "text": [
      "Untuk menghitung luas lingkaran gunakanlah phi = 3.142857142857143\n"
     ]
    }
   ],
   "source": [
    "print(\"Untuk menghitung luas lingkaran gunakanlah phi = {}\".format(phi))"
   ]
  },
  {
   "cell_type": "markdown",
   "id": "4e142d00",
   "metadata": {},
   "source": [
    "### Format penulisan untuk method print {nilai:lebar.tingkat_presisis f}."
   ]
  },
  {
   "cell_type": "code",
   "execution_count": 16,
   "id": "ce64f150",
   "metadata": {},
   "outputs": [
    {
     "name": "stdout",
     "output_type": "stream",
     "text": [
      "Luas tanah pak dadang adalah 2667.9 20998.7\n"
     ]
    }
   ],
   "source": [
    "luas1 = 2667.9\n",
    "luas2 = 20998.7\n",
    "\n",
    "print(\"Luas tanah pak dadang adalah {a} {b}\".format(a=luas1,b=luas2))"
   ]
  },
  {
   "cell_type": "code",
   "execution_count": 18,
   "id": "ec6053dc",
   "metadata": {},
   "outputs": [
    {
     "name": "stdout",
     "output_type": "stream",
     "text": [
      "Luas tanah pak dadang adalah 2667.900000000000 20998.700000\n"
     ]
    }
   ],
   "source": [
    "print(\"Luas tanah pak dadang adalah {a:5.12f} {b:2.6f}\".format(a=luas1,b=luas2))"
   ]
  },
  {
   "cell_type": "code",
   "execution_count": null,
   "id": "09bf1b67",
   "metadata": {},
   "outputs": [],
   "source": []
  }
 ],
 "metadata": {
  "kernelspec": {
   "display_name": "Python 3",
   "language": "python",
   "name": "python3"
  },
  "language_info": {
   "codemirror_mode": {
    "name": "ipython",
    "version": 3
   },
   "file_extension": ".py",
   "mimetype": "text/x-python",
   "name": "python",
   "nbconvert_exporter": "python",
   "pygments_lexer": "ipython3",
   "version": "3.8.8"
  }
 },
 "nbformat": 4,
 "nbformat_minor": 5
}
