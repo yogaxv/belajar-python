{
 "cells": [
  {
   "cell_type": "markdown",
   "id": "1874da02",
   "metadata": {},
   "source": [
    "# For Loops\n",
    "digunakan untuk melakukan iterasi.\\\n",
    "Hampir semua object di python bisa di iterasi.\n",
    "\n",
    "Aturan penulisan\n",
    "```\n",
    "for item in items:\n",
    "    execute()\n",
    "```"
   ]
  },
  {
   "cell_type": "code",
   "execution_count": 3,
   "id": "6238fdd0",
   "metadata": {},
   "outputs": [
    {
     "name": "stdout",
     "output_type": "stream",
     "text": [
      "b\n",
      "e\n",
      "l\n",
      "a\n",
      "j\n",
      "a\n",
      "r\n"
     ]
    }
   ],
   "source": [
    "for i in \"belajar\":\n",
    "    print(i)"
   ]
  },
  {
   "cell_type": "code",
   "execution_count": 5,
   "id": "021a7da8",
   "metadata": {},
   "outputs": [
    {
     "name": "stdout",
     "output_type": "stream",
     "text": [
      "belajar"
     ]
    }
   ],
   "source": [
    "for i in \"belajar\":\n",
    "    print(i, end = '') #using print formating 'end'"
   ]
  },
  {
   "cell_type": "code",
   "execution_count": 8,
   "id": "70b4c0bf",
   "metadata": {},
   "outputs": [
    {
     "name": "stdout",
     "output_type": "stream",
     "text": [
      "hasil penjumlahan pada iterator ke0 adalah 0\n",
      "hasil penjumlahan pada iterator ke1 adalah 1\n",
      "hasil penjumlahan pada iterator ke2 adalah 3\n",
      "hasil penjumlahan pada iterator ke3 adalah 6\n",
      "hasil penjumlahan pada iterator ke4 adalah 10\n",
      "hasil penjumlahan pada iterator ke5 adalah 15\n",
      "hasil penjumlahan pada iterator ke6 adalah 21\n",
      "hasil penjumlahan pada iterator ke7 adalah 28\n",
      "hasil penjumlahan pada iterator ke8 adalah 36\n",
      "hasil penjumlahan pada iterator ke9 adalah 45\n",
      "hasil penjumlahan number adalah 45 \n"
     ]
    }
   ],
   "source": [
    "number = [0,1,2,3,4,5,6,7,8,9]\n",
    "total =  0\n",
    "for i in number:\n",
    "    total = total + i\n",
    "    print(\"hasil penjumlahan pada iterator ke{} adalah {}\".format(i,total))\n",
    "\n",
    "print(\"hasil penjumlahan number adalah {} \".format(total))"
   ]
  },
  {
   "cell_type": "code",
   "execution_count": 10,
   "id": "5198be5b",
   "metadata": {},
   "outputs": [
    {
     "name": "stdout",
     "output_type": "stream",
     "text": [
      "ini adalah huruf A\n",
      "ini adalah huruf A\n",
      "ini adalah huruf A\n",
      "ini adalah huruf A\n",
      "ini adalah huruf A\n",
      "ini adalah huruf A\n"
     ]
    }
   ],
   "source": [
    "for item in \"Belajar Bahasa indonesia\":\n",
    "    if item == \"a\":\n",
    "        print(\"ini adalah huruf A\")"
   ]
  },
  {
   "cell_type": "code",
   "execution_count": 13,
   "id": "2b26a3b5",
   "metadata": {},
   "outputs": [
    {
     "name": "stdout",
     "output_type": "stream",
     "text": [
      "Angka  0  adalah bilangan genap\n",
      "Angka  1  adalah bilangan ganjil\n",
      "Angka  2  adalah bilangan genap\n",
      "Angka  3  adalah bilangan ganjil\n",
      "Angka  4  adalah bilangan genap\n",
      "Angka  5  adalah bilangan ganjil\n",
      "Angka  6  adalah bilangan genap\n",
      "Angka  7  adalah bilangan ganjil\n",
      "Angka  8  adalah bilangan genap\n",
      "Angka  9  adalah bilangan ganjil\n",
      "Angka  10  adalah bilangan genap\n",
      "Angka  11  adalah bilangan ganjil\n",
      "Angka  12  adalah bilangan genap\n",
      "Angka  13  adalah bilangan ganjil\n",
      "Angka  14  adalah bilangan genap\n"
     ]
    }
   ],
   "source": [
    "angka = [0,1,2,3,4,5,6,7,8,9,10,11,12,13,14]\n",
    "for i in angka:\n",
    "    if i % 2 == 0:\n",
    "        print(\"Angka \",i ,\" adalah bilangan genap\".format(i)) #dengan concenate formater, otomatis convert to string\n",
    "    else:\n",
    "        print(\"Angka \",str(i) ,\" adalah bilangan ganjil\".format(i)) #dengan concenate formater,"
   ]
  },
  {
   "cell_type": "markdown",
   "id": "c2497ea4",
   "metadata": {},
   "source": [
    "# for loop dengan tuple dan list multiple item"
   ]
  },
  {
   "cell_type": "code",
   "execution_count": 14,
   "id": "d14fee46",
   "metadata": {},
   "outputs": [],
   "source": [
    "box1 = ((1,2),(3,4),(5,6))"
   ]
  },
  {
   "cell_type": "code",
   "execution_count": 15,
   "id": "209f84e4",
   "metadata": {},
   "outputs": [
    {
     "name": "stdout",
     "output_type": "stream",
     "text": [
      "(1, 2)\n",
      "(3, 4)\n",
      "(5, 6)\n"
     ]
    }
   ],
   "source": [
    "for item in box1:\n",
    "    print(item)"
   ]
  },
  {
   "cell_type": "code",
   "execution_count": 16,
   "id": "47753552",
   "metadata": {},
   "outputs": [
    {
     "name": "stdout",
     "output_type": "stream",
     "text": [
      "1 2\n",
      "3 4\n",
      "5 6\n"
     ]
    }
   ],
   "source": [
    "for a,b in box1:\n",
    "    print(a,b)"
   ]
  },
  {
   "cell_type": "code",
   "execution_count": 18,
   "id": "1cdd4452",
   "metadata": {},
   "outputs": [
    {
     "name": "stdout",
     "output_type": "stream",
     "text": [
      "1\n",
      "2\n",
      "3\n",
      "4\n",
      "5\n",
      "6\n"
     ]
    }
   ],
   "source": [
    "for a,b in box1:\n",
    "    print(a)\n",
    "    print(b)"
   ]
  },
  {
   "cell_type": "code",
   "execution_count": 21,
   "id": "3ed80c91",
   "metadata": {},
   "outputs": [
    {
     "name": "stdout",
     "output_type": "stream",
     "text": [
      "1\n",
      "2\n",
      "3\n",
      "4\n",
      "5\n",
      "6\n",
      "a\n",
      "b\n",
      "c\n"
     ]
    }
   ],
   "source": [
    "box2 = [[1,2,'a'],[3,4,'b'], [5,6,'c']]\n",
    "for a,b,c in box2:\n",
    "    print(a)\n",
    "    print(b)\n",
    "    \n",
    "for a,b,c in box2:\n",
    "    print(c)"
   ]
  },
  {
   "cell_type": "markdown",
   "id": "b90f9789",
   "metadata": {},
   "source": [
    "# While Loop\n",
    "\n",
    "Ada 3 Argumen yang bisa digunakan:\n",
    "1. break = menghentikan looping\n",
    "2. continue = melanjutkan looping ke iterator selanjutnya dan skip current loop\n",
    "3. pass = tidak melakukan apa-apa\n",
    "\n",
    "```\n",
    "while(sebuah kondisi = True):\n",
    "    execution\n",
    "```"
   ]
  },
  {
   "cell_type": "code",
   "execution_count": 24,
   "id": "c01b5bef",
   "metadata": {},
   "outputs": [
    {
     "name": "stdout",
     "output_type": "stream",
     "text": [
      "Ini ada looping iterasi ke- 1\n",
      "Ini ada looping iterasi ke- 2\n",
      "Ini ada looping iterasi ke- 4\n",
      "Ini ada looping iterasi ke- 5\n"
     ]
    }
   ],
   "source": [
    "index = 0\n",
    "while True: # Mengulang tanpa henti akan berhenti jika ada peritah break atau jika ram habis\n",
    "    index+=1\n",
    "    if index == 3:\n",
    "        continue\n",
    "    \n",
    "    print(\"Ini ada looping iterasi ke-\", index)\n",
    "    \n",
    "    if index == 5:\n",
    "        break\n",
    "    "
   ]
  },
  {
   "cell_type": "code",
   "execution_count": 27,
   "id": "ace4db1d",
   "metadata": {},
   "outputs": [
    {
     "name": "stdout",
     "output_type": "stream",
     "text": [
      "Ini ada looping iterasi ke- 0\n",
      "Ini ada looping iterasi ke- 2\n",
      "Ini ada looping iterasi ke- 4\n",
      "Ini ada looping iterasi ke- 6\n",
      "Ini ada looping iterasi ke- 8\n"
     ]
    }
   ],
   "source": [
    "x = 0\n",
    "while x < 10:\n",
    "    print(\"Ini ada looping iterasi ke-\", x)\n",
    "    x += 2"
   ]
  },
  {
   "cell_type": "code",
   "execution_count": 28,
   "id": "99c28e8a",
   "metadata": {},
   "outputs": [],
   "source": [
    "for i in \"abcd\":\n",
    "    pass"
   ]
  },
  {
   "cell_type": "markdown",
   "id": "3528d86a",
   "metadata": {},
   "source": [
    "# Range"
   ]
  },
  {
   "cell_type": "code",
   "execution_count": 31,
   "id": "e019d9f6",
   "metadata": {},
   "outputs": [
    {
     "name": "stdout",
     "output_type": "stream",
     "text": [
      "Ini ada looping iterasi ke- 0\n",
      "Ini ada looping iterasi ke- 15\n",
      "Ini ada looping iterasi ke- 30\n",
      "Ini ada looping iterasi ke- 45\n",
      "Ini ada looping iterasi ke- 60\n",
      "Ini ada looping iterasi ke- 75\n",
      "Ini ada looping iterasi ke- 90\n"
     ]
    }
   ],
   "source": [
    "for i in range(0,100,15):\n",
    "    print(\"Ini ada looping iterasi ke-\", i)"
   ]
  },
  {
   "cell_type": "code",
   "execution_count": 32,
   "id": "f01bb51a",
   "metadata": {},
   "outputs": [
    {
     "name": "stdout",
     "output_type": "stream",
     "text": [
      "[1, 2, 3, 4, 5, 6, 7, 8, 9]\n",
      "[1, 6, 11, 16, 21, 26, 31, 36, 41, 46, 51, 56, 61, 66, 71, 76, 81, 86, 91, 96]\n"
     ]
    }
   ],
   "source": [
    "angka1 = list(range(1,10))\n",
    "print(angka1)\n",
    "\n",
    "angka2 = list(range(1,100,5))\n",
    "print(angka2)"
   ]
  },
  {
   "cell_type": "markdown",
   "id": "f9e96713",
   "metadata": {},
   "source": [
    "# Enumerate"
   ]
  },
  {
   "cell_type": "code",
   "execution_count": 36,
   "id": "4e07e320",
   "metadata": {},
   "outputs": [
    {
     "name": "stdout",
     "output_type": "stream",
     "text": [
      "karakter  y  berada pada index ke- 0\n",
      "karakter  o  berada pada index ke- 1\n",
      "karakter  g  berada pada index ke- 2\n",
      "karakter  a  berada pada index ke- 3\n"
     ]
    }
   ],
   "source": [
    "# Sample loop without enumerate :\n",
    "index = 0\n",
    "for item in \"yoga\":\n",
    "    print(\"karakter \", item,\" berada pada index ke-\", index)\n",
    "    index+=1"
   ]
  },
  {
   "cell_type": "code",
   "execution_count": 37,
   "id": "9f7bb8b0",
   "metadata": {},
   "outputs": [
    {
     "name": "stdout",
     "output_type": "stream",
     "text": [
      "(0, 'y')\n",
      "(1, 'o')\n",
      "(2, 'g')\n",
      "(3, 'a')\n"
     ]
    }
   ],
   "source": [
    "# Sample loop with enumerate :\n",
    "for item in enumerate(\"yoga\"):\n",
    "    print(item)"
   ]
  },
  {
   "cell_type": "code",
   "execution_count": 38,
   "id": "a8d0e05f",
   "metadata": {},
   "outputs": [
    {
     "name": "stdout",
     "output_type": "stream",
     "text": [
      "karakter  y  berada pada index ke- 0\n",
      "karakter  o  berada pada index ke- 1\n",
      "karakter  g  berada pada index ke- 2\n",
      "karakter  a  berada pada index ke- 3\n"
     ]
    }
   ],
   "source": [
    "# Sample loop with enumerate and tuple :\n",
    "for a,b in enumerate(\"yoga\"):\n",
    "    print(\"karakter \", b,\" berada pada index ke-\", a)"
   ]
  },
  {
   "cell_type": "markdown",
   "id": "49099f5d",
   "metadata": {},
   "source": [
    "# Zip"
   ]
  },
  {
   "cell_type": "code",
   "execution_count": 40,
   "id": "ef3204b3",
   "metadata": {},
   "outputs": [
    {
     "name": "stdout",
     "output_type": "stream",
     "text": [
      "Nomor 1 berisi huruf a dengan nilai 0.1\n",
      "Nomor 2 berisi huruf b dengan nilai 0.2\n",
      "Nomor 3 berisi huruf c dengan nilai 0.3\n",
      "Nomor 4 berisi huruf d dengan nilai 0.4\n",
      "Nomor 5 berisi huruf e dengan nilai 0.5\n"
     ]
    }
   ],
   "source": [
    "list1 = [1,2,3,4,5]\n",
    "list2 = [\"a\", \"b\", \"c\", \"d\", \"e\"]\n",
    "list3 = [0.1,0.2,0.3,0.4,0.5]\n",
    "\n",
    "for x,y,z in zip(list1,list2,list3):\n",
    "    print(\"Nomor {} berisi huruf {} dengan nilai {}\".format(x,y,z))"
   ]
  },
  {
   "cell_type": "code",
   "execution_count": 41,
   "id": "836a9f4a",
   "metadata": {},
   "outputs": [
    {
     "data": {
      "text/plain": [
       "[(1, 0.1), (2, 0.2), (3, 0.3), (4, 0.4), (5, 0.5)]"
      ]
     },
     "execution_count": 41,
     "metadata": {},
     "output_type": "execute_result"
    }
   ],
   "source": [
    "list(zip(list1,list3))"
   ]
  },
  {
   "cell_type": "markdown",
   "id": "3cfefa3a",
   "metadata": {},
   "source": [
    "# Item checking"
   ]
  },
  {
   "cell_type": "code",
   "execution_count": 44,
   "id": "3cc895ee",
   "metadata": {},
   "outputs": [
    {
     "name": "stdout",
     "output_type": "stream",
     "text": [
      "True\n",
      "True\n",
      "False\n"
     ]
    }
   ],
   "source": [
    "print(\"a\" in \"Yoga Prasetiyo\")\n",
    "print(\"y\" in \"Yoga Prasetiyo\")\n",
    "print(\"v\" in \"Yoga Prasetiyo\")"
   ]
  },
  {
   "cell_type": "code",
   "execution_count": 48,
   "id": "97f98d1f",
   "metadata": {},
   "outputs": [
    {
     "name": "stdout",
     "output_type": "stream",
     "text": [
      "True\n",
      "True\n",
      "False\n",
      "True\n"
     ]
    }
   ],
   "source": [
    "box = {\"a\":100, \"b\":200, \"c\":300}\n",
    "\n",
    "print(\"c\" in box)\n",
    "print(c in box)\n",
    "print(300 in box)\n",
    "print(300 in box.values())"
   ]
  },
  {
   "cell_type": "markdown",
   "id": "69062451",
   "metadata": {},
   "source": [
    "# Advance for loops\n",
    "\n",
    "kelebihan: menghemat memory"
   ]
  },
  {
   "cell_type": "code",
   "execution_count": 50,
   "id": "f8876f59",
   "metadata": {},
   "outputs": [
    {
     "name": "stdout",
     "output_type": "stream",
     "text": [
      "[1, 2, 3, 4, 5, 6, 7, 8, 9, 10]\n"
     ]
    }
   ],
   "source": [
    "items1 = list(range(1,11))\n",
    "print(items1)"
   ]
  },
  {
   "cell_type": "code",
   "execution_count": 52,
   "id": "76598bae",
   "metadata": {},
   "outputs": [
    {
     "name": "stdout",
     "output_type": "stream",
     "text": [
      "[1, 2, 3, 4, 5, 6, 7, 8, 9, 10]\n"
     ]
    }
   ],
   "source": [
    "items2 = list()\n",
    "for item in range(1,11):\n",
    "    items2.append(item)\n",
    "    \n",
    "print(items2)"
   ]
  },
  {
   "cell_type": "code",
   "execution_count": 53,
   "id": "684222ac",
   "metadata": {},
   "outputs": [
    {
     "name": "stdout",
     "output_type": "stream",
     "text": [
      "[1, 2, 3, 4, 5, 6, 7, 8, 9, 10]\n"
     ]
    }
   ],
   "source": [
    "items3 = [item for item in range(1,11)]\n",
    "# Kelebihan penulisan items3 dibanding items1 adalah :\n",
    "# saat list di append oleh item, item bisa menggunakan\n",
    "# fungsi aritmatika, lebih jelasnya lihat code items4\n",
    "\n",
    "print(items3)"
   ]
  },
  {
   "cell_type": "code",
   "execution_count": 62,
   "id": "692c8a80",
   "metadata": {},
   "outputs": [
    {
     "name": "stdout",
     "output_type": "stream",
     "text": [
      "[2.0, 3.5, 6.0, 9.5, 14.0, 19.5, 26.0, 33.5, 42.0, 51.5]\n"
     ]
    }
   ],
   "source": [
    "items4 = [ ((item**2)+3)/2 for item in range(1,11)]\n",
    "# pada contoh di atas item menggunakan pangkat 2 dijumlah 3 kemudian dibagi 2\n",
    "print(items4)"
   ]
  },
  {
   "cell_type": "code",
   "execution_count": 64,
   "id": "f3eb29f7",
   "metadata": {},
   "outputs": [
    {
     "name": "stdout",
     "output_type": "stream",
     "text": [
      "[2, 4, 6, 8, 10, 12, 14, 16, 18, 20, 22, 24, 26, 28, 30, 32, 34, 36, 38, 40, 42, 44, 46, 48, 50, 52, 54, 56, 58, 60, 62, 64, 66, 68, 70, 72, 74, 76, 78, 80, 82, 84, 86, 88, 90, 92, 94, 96, 98, 100]\n"
     ]
    }
   ],
   "source": [
    "# CONTOH JIKA MENGGUNAKAN IF SAJA\n",
    "items5 = [item for item in range(1,101) if item%2==0]\n",
    "print(items5)"
   ]
  },
  {
   "cell_type": "code",
   "execution_count": 65,
   "id": "d59acebb",
   "metadata": {},
   "outputs": [
    {
     "name": "stdout",
     "output_type": "stream",
     "text": [
      "[0, 2, 0, 4, 0, 6, 0, 8, 0, 10, 0, 12, 0, 14, 0, 16, 0, 18, 0, 20, 0, 22, 0, 24, 0, 26, 0, 28, 0, 30, 0, 32, 0, 34, 0, 36, 0, 38, 0, 40, 0, 42, 0, 44, 0, 46, 0, 48, 0, 50, 0, 52, 0, 54, 0, 56, 0, 58, 0, 60, 0, 62, 0, 64, 0, 66, 0, 68, 0, 70, 0, 72, 0, 74, 0, 76, 0, 78, 0, 80, 0, 82, 0, 84, 0, 86, 0, 88, 0, 90, 0, 92, 0, 94, 0, 96, 0, 98, 0, 100]\n"
     ]
    }
   ],
   "source": [
    "# CONTOH JIKA MENGGUNAKAN IF DAN ELSE\n",
    "items6 = [item if item%2==0 else 0 for item in range(1,101) ]\n",
    "print(items6)"
   ]
  },
  {
   "cell_type": "code",
   "execution_count": null,
   "id": "6e5d6a6f",
   "metadata": {},
   "outputs": [],
   "source": []
  }
 ],
 "metadata": {
  "kernelspec": {
   "display_name": "Python 3",
   "language": "python",
   "name": "python3"
  },
  "language_info": {
   "codemirror_mode": {
    "name": "ipython",
    "version": 3
   },
   "file_extension": ".py",
   "mimetype": "text/x-python",
   "name": "python",
   "nbconvert_exporter": "python",
   "pygments_lexer": "ipython3",
   "version": "3.8.8"
  }
 },
 "nbformat": 4,
 "nbformat_minor": 5
}
