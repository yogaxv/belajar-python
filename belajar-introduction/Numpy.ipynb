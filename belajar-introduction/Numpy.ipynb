{
 "cells": [
  {
   "cell_type": "markdown",
   "id": "83cb728d",
   "metadata": {},
   "source": [
    "# Apa itu Numpy\n",
    "\n",
    "- NumPy atau Numpy adalah library aljabar linear untuk Python\n",
    "- Numpy sering digunakan dalam konteks AI & Data science.\n",
    "- Numpy sangat cepat dan dibangun melalui Bahasa C\n",
    "\n",
    "## Menginstall Numpy\n",
    "\n",
    "- Direkomendasikan melalui Anaconda\n",
    "- Anaconda prompt -> conda install numpy\n",
    "- Command Line -> pip install numpy\n",
    "\n",
    "Silahkan gunakan salah satu dari anaconda dan pip, jika menggunakan keduanya , sering terjadi error."
   ]
  },
  {
   "cell_type": "code",
   "execution_count": 2,
   "id": "5dd0eb75",
   "metadata": {},
   "outputs": [
    {
     "name": "stdout",
     "output_type": "stream",
     "text": [
      "[1 2 3]\n",
      "[1, 2, 3, 1, 2, 3, 1, 2, 3]\n",
      "[3 6 9]\n"
     ]
    }
   ],
   "source": [
    "import numpy as np\n",
    "\n",
    "angka = [1,2,3]\n",
    "angkap = np.array(angka)\n",
    "\n",
    "print(angkap)\n",
    "print(angka*3)\n",
    "print(angkap*3)"
   ]
  },
  {
   "cell_type": "code",
   "execution_count": 3,
   "id": "b0b4368d",
   "metadata": {},
   "outputs": [
    {
     "data": {
      "text/plain": [
       "array([[1, 2, 3],\n",
       "       [4, 5, 6],\n",
       "       [7, 8, 9]])"
      ]
     },
     "execution_count": 3,
     "metadata": {},
     "output_type": "execute_result"
    }
   ],
   "source": [
    "verlist = [[1,2,3],[4,5,6],[7,8,9]]\n",
    "vernp = np.array(verlist)"
   ]
  },
  {
   "cell_type": "code",
   "execution_count": 4,
   "id": "dcdac701",
   "metadata": {},
   "outputs": [
    {
     "data": {
      "text/plain": [
       "array([0, 1, 2, 3, 4, 5, 6, 7, 8, 9])"
      ]
     },
     "execution_count": 4,
     "metadata": {},
     "output_type": "execute_result"
    }
   ],
   "source": [
    "np.arange(0,10)"
   ]
  },
  {
   "cell_type": "code",
   "execution_count": 5,
   "id": "cce056c0",
   "metadata": {},
   "outputs": [
    {
     "data": {
      "text/plain": [
       "array([ 0,  3,  6,  9, 12, 15, 18])"
      ]
     },
     "execution_count": 5,
     "metadata": {},
     "output_type": "execute_result"
    }
   ],
   "source": [
    "np.arange(0,20,3)"
   ]
  },
  {
   "cell_type": "code",
   "execution_count": 8,
   "id": "bc2b5f1e",
   "metadata": {},
   "outputs": [
    {
     "data": {
      "text/plain": [
       "array([0., 0., 0., 0., 0.])"
      ]
     },
     "execution_count": 8,
     "metadata": {},
     "output_type": "execute_result"
    }
   ],
   "source": [
    "np.zeros(5)"
   ]
  },
  {
   "cell_type": "code",
   "execution_count": 9,
   "id": "66fba4f9",
   "metadata": {},
   "outputs": [
    {
     "data": {
      "text/plain": [
       "array([[0., 0., 0., 0.],\n",
       "       [0., 0., 0., 0.],\n",
       "       [0., 0., 0., 0.]])"
      ]
     },
     "execution_count": 9,
     "metadata": {},
     "output_type": "execute_result"
    }
   ],
   "source": [
    "np.zeros((3,4))"
   ]
  },
  {
   "cell_type": "code",
   "execution_count": 10,
   "id": "8147e956",
   "metadata": {},
   "outputs": [
    {
     "data": {
      "text/plain": [
       "array([1., 1., 1., 1., 1.])"
      ]
     },
     "execution_count": 10,
     "metadata": {},
     "output_type": "execute_result"
    }
   ],
   "source": [
    "np.ones(5)"
   ]
  },
  {
   "cell_type": "code",
   "execution_count": 11,
   "id": "6af4bc27",
   "metadata": {},
   "outputs": [
    {
     "data": {
      "text/plain": [
       "array([[1., 1., 1., 1., 1.],\n",
       "       [1., 1., 1., 1., 1.]])"
      ]
     },
     "execution_count": 11,
     "metadata": {},
     "output_type": "execute_result"
    }
   ],
   "source": [
    "np.ones((2,5))"
   ]
  },
  {
   "cell_type": "code",
   "execution_count": 18,
   "id": "fb4d8885",
   "metadata": {},
   "outputs": [
    {
     "data": {
      "text/plain": [
       "array([0.        , 0.88888889, 1.77777778, 2.66666667, 3.55555556,\n",
       "       4.44444444, 5.33333333, 6.22222222, 7.11111111, 8.        ])"
      ]
     },
     "execution_count": 18,
     "metadata": {},
     "output_type": "execute_result"
    }
   ],
   "source": [
    "np.linspace(0,8,10)"
   ]
  },
  {
   "cell_type": "markdown",
   "id": "140d6822",
   "metadata": {},
   "source": [
    "## Identity Matrix"
   ]
  },
  {
   "cell_type": "code",
   "execution_count": 19,
   "id": "44193317",
   "metadata": {},
   "outputs": [
    {
     "data": {
      "text/plain": [
       "array([[1., 0., 0., 0., 0.],\n",
       "       [0., 1., 0., 0., 0.],\n",
       "       [0., 0., 1., 0., 0.],\n",
       "       [0., 0., 0., 1., 0.],\n",
       "       [0., 0., 0., 0., 1.]])"
      ]
     },
     "execution_count": 19,
     "metadata": {},
     "output_type": "execute_result"
    }
   ],
   "source": [
    "np.eye(5)"
   ]
  },
  {
   "cell_type": "markdown",
   "id": "3f5adbb3",
   "metadata": {},
   "source": [
    "# Numpy 2"
   ]
  },
  {
   "cell_type": "code",
   "execution_count": 4,
   "id": "018be26d",
   "metadata": {},
   "outputs": [
    {
     "data": {
      "text/plain": [
       "array([0.95753359, 0.93593315, 0.41398033, 0.053072  , 0.31250743,\n",
       "       0.27690705, 0.1607712 ])"
      ]
     },
     "execution_count": 4,
     "metadata": {},
     "output_type": "execute_result"
    }
   ],
   "source": [
    "# bilangan distribusi uniform (0-1)\n",
    "np.random.rand(7)"
   ]
  },
  {
   "cell_type": "code",
   "execution_count": 5,
   "id": "a640bc3b",
   "metadata": {},
   "outputs": [
    {
     "data": {
      "text/plain": [
       "array([[0.47251048, 0.6229745 , 0.17877775, 0.12282005],\n",
       "       [0.76026519, 0.40277381, 0.37899294, 0.91362623],\n",
       "       [0.24164326, 0.0209978 , 0.65587694, 0.20824092],\n",
       "       [0.78884513, 0.67575253, 0.93703307, 0.34970109],\n",
       "       [0.69491393, 0.90160661, 0.0487486 , 0.43559638]])"
      ]
     },
     "execution_count": 5,
     "metadata": {},
     "output_type": "execute_result"
    }
   ],
   "source": [
    "# bilangan distribusi uniform (0-1) matriks 2 dimensi\n",
    "np.random.rand(5,4)"
   ]
  },
  {
   "cell_type": "code",
   "execution_count": 6,
   "id": "e7bc31fa",
   "metadata": {},
   "outputs": [
    {
     "data": {
      "text/plain": [
       "array([ 0.57627969,  0.17910954,  0.22251177, -1.16363973,  1.38290581,\n",
       "       -0.25488224,  1.40946662,  0.24810054,  0.57900718, -1.23462347])"
      ]
     },
     "execution_count": 6,
     "metadata": {},
     "output_type": "execute_result"
    }
   ],
   "source": [
    "# bilangan distribusi normal ( gaussian )\n",
    "np.random.randn(10)"
   ]
  },
  {
   "cell_type": "code",
   "execution_count": 7,
   "id": "94663679",
   "metadata": {},
   "outputs": [
    {
     "data": {
      "text/plain": [
       "array([[-0.44140577, -1.78297377, -1.08956792,  1.18627944],\n",
       "       [-0.32323737,  0.30632977,  1.28511855,  0.68170682],\n",
       "       [ 1.72449288,  1.35262486,  0.79547742, -1.20540701],\n",
       "       [-1.49139229,  0.0544825 ,  0.26581012, -1.76333147]])"
      ]
     },
     "execution_count": 7,
     "metadata": {},
     "output_type": "execute_result"
    }
   ],
   "source": [
    "# bilangan distribusi normal ( gaussian ) matriks 2 dimensi\n",
    "np.random.randn(4,4)"
   ]
  },
  {
   "cell_type": "code",
   "execution_count": 9,
   "id": "1463099a",
   "metadata": {},
   "outputs": [
    {
     "data": {
      "text/plain": [
       "array([[-0.68603431,  0.52200743],\n",
       "       [ 0.81337762,  0.05189268],\n",
       "       [ 1.32432218, -0.35297037],\n",
       "       [-0.03035675, -0.95808007],\n",
       "       [-0.66688679,  0.36760129],\n",
       "       [-2.03048608,  0.73840378]])"
      ]
     },
     "execution_count": 9,
     "metadata": {},
     "output_type": "execute_result"
    }
   ],
   "source": [
    "from numpy.random import randn, randint\n",
    "\n",
    "randn(6,2)"
   ]
  },
  {
   "cell_type": "code",
   "execution_count": 12,
   "id": "e2d6cedc",
   "metadata": {},
   "outputs": [
    {
     "data": {
      "text/plain": [
       "array([1, 0, 1, 9, 8])"
      ]
     },
     "execution_count": 12,
     "metadata": {},
     "output_type": "execute_result"
    }
   ],
   "source": [
    "randint(0,10,5)"
   ]
  },
  {
   "cell_type": "code",
   "execution_count": 14,
   "id": "f9a5f8db",
   "metadata": {},
   "outputs": [
    {
     "name": "stdout",
     "output_type": "stream",
     "text": [
      "[42 12 18 93 62  3 11  8 53 13 11  2 14 10 36 14  9 46 59 74]\n"
     ]
    }
   ],
   "source": [
    "bilangan = randint(0,100,20)\n",
    "print(bilangan)"
   ]
  },
  {
   "cell_type": "code",
   "execution_count": 16,
   "id": "a9afe1bf",
   "metadata": {},
   "outputs": [
    {
     "data": {
      "text/plain": [
       "array([[42, 12, 18, 93, 62],\n",
       "       [ 3, 11,  8, 53, 13],\n",
       "       [11,  2, 14, 10, 36],\n",
       "       [14,  9, 46, 59, 74]])"
      ]
     },
     "execution_count": 16,
     "metadata": {},
     "output_type": "execute_result"
    }
   ],
   "source": [
    "bilangan.reshape(4,5)"
   ]
  },
  {
   "cell_type": "code",
   "execution_count": 24,
   "id": "475a4ad1",
   "metadata": {},
   "outputs": [
    {
     "name": "stdout",
     "output_type": "stream",
     "text": [
      "[[1 6 5 5]\n",
      " [3 1 0 7]\n",
      " [3 0 6 5]\n",
      " [1 4 7 7]\n",
      " [6 3 3 1]]\n",
      "[[1 6 5 5 3 1 0 7 3 0]\n",
      " [6 5 1 4 7 7 6 3 3 1]]\n"
     ]
    }
   ],
   "source": [
    "coba = randint(0,10,20).reshape(5,4)\n",
    "coba2 = coba.reshape(2,10)\n",
    "print(coba)\n",
    "print(coba2)"
   ]
  },
  {
   "cell_type": "code",
   "execution_count": 31,
   "id": "aa906750",
   "metadata": {},
   "outputs": [
    {
     "name": "stdout",
     "output_type": "stream",
     "text": [
      "[44 36 76 67 26 26 73 10 43 90 97 48 33 23 53  4 76 89 48 27]\n",
      "[[54 47 60 38 74]\n",
      " [27 38 94 73 40]\n",
      " [14 52  6 73 28]\n",
      " [20  7  3 99 84]]\n",
      "97\n",
      "99\n",
      "10\n",
      "18\n",
      "4\n",
      "3\n",
      "15\n",
      "17\n"
     ]
    }
   ],
   "source": [
    "coba1d = randint(0,100,20)\n",
    "coba2d = randint(0,100,20).reshape(4,5)\n",
    "\n",
    "print(coba1d)\n",
    "print(coba2d)\n",
    "\n",
    "print(coba1d.max())\n",
    "print(coba2d.max())\n",
    "\n",
    "print(coba1d.argmax())\n",
    "print(coba2d.argmax())\n",
    "\n",
    "print(coba1d.min())\n",
    "print(coba2d.min())\n",
    "\n",
    "print(coba1d.argmin())\n",
    "print(coba2d.argmin())"
   ]
  },
  {
   "cell_type": "code",
   "execution_count": 33,
   "id": "b3416515",
   "metadata": {},
   "outputs": [
    {
     "data": {
      "text/plain": [
       "(20,)"
      ]
     },
     "execution_count": 33,
     "metadata": {},
     "output_type": "execute_result"
    }
   ],
   "source": [
    "coba1d.shape"
   ]
  },
  {
   "cell_type": "code",
   "execution_count": 34,
   "id": "802fc755",
   "metadata": {},
   "outputs": [
    {
     "data": {
      "text/plain": [
       "(4, 5)"
      ]
     },
     "execution_count": 34,
     "metadata": {},
     "output_type": "execute_result"
    }
   ],
   "source": [
    "coba2d.shape"
   ]
  },
  {
   "cell_type": "code",
   "execution_count": 35,
   "id": "92dce1a8",
   "metadata": {},
   "outputs": [
    {
     "data": {
      "text/plain": [
       "dtype('int32')"
      ]
     },
     "execution_count": 35,
     "metadata": {},
     "output_type": "execute_result"
    }
   ],
   "source": [
    "coba1d.dtype"
   ]
  },
  {
   "cell_type": "code",
   "execution_count": 36,
   "id": "af7d58a5",
   "metadata": {},
   "outputs": [
    {
     "data": {
      "text/plain": [
       "dtype('int32')"
      ]
     },
     "execution_count": 36,
     "metadata": {},
     "output_type": "execute_result"
    }
   ],
   "source": [
    "coba2d.dtype"
   ]
  },
  {
   "cell_type": "markdown",
   "id": "aa75eabc",
   "metadata": {},
   "source": [
    "## Indexing di Numpy"
   ]
  },
  {
   "cell_type": "code",
   "execution_count": 49,
   "id": "c7e86d9e",
   "metadata": {},
   "outputs": [
    {
     "name": "stdout",
     "output_type": "stream",
     "text": [
      "coba lagi = [ 0  1  2  3  4  5  6  7  8  9 10]\n",
      "cobalagi[6] berisi 6\n",
      "cobalagi[:6] berisi [0 1 2 3 4 5]\n",
      "cobalagi[5::] = [ 5  6  7  8  9 10]\n",
      "cobalagi[5::2] = [5 7 9]\n",
      "cobalagi[::2] = [ 0  2  4  6  8 10]\n"
     ]
    }
   ],
   "source": [
    "cobalagi = np.arange(0,11)\n",
    "\n",
    "print(\"coba lagi =\",cobalagi)\n",
    "print(\"cobalagi[6] berisi\",cobalagi[6])\n",
    "print(\"cobalagi[:6] berisi\",cobalagi[:6])\n",
    "print(\"cobalagi[5::] =\",cobalagi[5::])\n",
    "print(\"cobalagi[5::2] =\",cobalagi[5::2])\n",
    "print(\"cobalagi[::2] =\",cobalagi[::2])"
   ]
  },
  {
   "cell_type": "code",
   "execution_count": 52,
   "id": "fe0093d1",
   "metadata": {},
   "outputs": [
    {
     "name": "stdout",
     "output_type": "stream",
     "text": [
      "[100 100 100 100 100]\n",
      "[100 100 100 100 100]\n",
      "[100 100 100 100 100   5   6   7   8   9  10]\n"
     ]
    }
   ],
   "source": [
    "cobalagi2 = cobalagi[:5]\n",
    "print(cobalagi2)\n",
    "\n",
    "cobalagi2[:] = 100\n",
    "print(cobalagi2)\n",
    "\n",
    "print(cobalagi) # cobalagi masih terlink dengan cobalagi2"
   ]
  },
  {
   "cell_type": "code",
   "execution_count": 55,
   "id": "2d1bf89f",
   "metadata": {},
   "outputs": [
    {
     "name": "stdout",
     "output_type": "stream",
     "text": [
      "[0 1 2 3 4]\n",
      "[100 100 100 100 100]\n",
      "[ 0  1  2  3  4  5  6  7  8  9 10]\n"
     ]
    }
   ],
   "source": [
    "# untuk mengassign cobalagi ke cobalagi2 tanpa link harusnya menggunakan copy()\n",
    "cobalagi = np.arange(0,11)\n",
    "cobalagi2 = cobalagi[:5].copy()\n",
    "print(cobalagi2)\n",
    "\n",
    "cobalagi2[:] = 100\n",
    "print(cobalagi2)\n",
    "\n",
    "print(cobalagi) # cobalagi sudah tidak terlink dengan cobalagi2"
   ]
  },
  {
   "cell_type": "code",
   "execution_count": 60,
   "id": "2afd4b67",
   "metadata": {},
   "outputs": [
    {
     "name": "stdout",
     "output_type": "stream",
     "text": [
      "[[1 2 3]\n",
      " [4 5 6]\n",
      " [7 8 9]]\n",
      "1\n",
      "1\n",
      "[4 5 6]\n",
      "[[5 6]]\n"
     ]
    }
   ],
   "source": [
    "bil2d = np.array([[1,2,3],[4,5,6],[7,8,9]])\n",
    "print(bil2d)\n",
    "print(bil2d[0][0])\n",
    "print(bil2d[0,0])\n",
    "\n",
    "\n",
    "print(bil2d[1])\n",
    "print(bil2d[1:2,1:])"
   ]
  },
  {
   "cell_type": "code",
   "execution_count": 61,
   "id": "b2c8588f",
   "metadata": {},
   "outputs": [
    {
     "name": "stdout",
     "output_type": "stream",
     "text": [
      "bil adalah [ 1  2  3  4  5  6  7  8  9 10]\n"
     ]
    }
   ],
   "source": [
    "bil = np.arange(1,11)\n",
    "\n",
    "print(\"bil adalah\",bil)"
   ]
  },
  {
   "cell_type": "code",
   "execution_count": 65,
   "id": "e39e5ab5",
   "metadata": {},
   "outputs": [
    {
     "name": "stdout",
     "output_type": "stream",
     "text": [
      "[False False False False False  True  True  True  True  True]\n",
      "[ 6  7  8  9 10]\n",
      "[1 2]\n"
     ]
    }
   ],
   "source": [
    "angkaT = bil>5\n",
    "\n",
    "print(angkaT)\n",
    "print(bil[angkaT])\n",
    "print(bil[bil<3])"
   ]
  },
  {
   "cell_type": "markdown",
   "id": "01adc6b0",
   "metadata": {},
   "source": [
    "# Numpy 3\n",
    "\n",
    "## Operasi di Numpy"
   ]
  },
  {
   "cell_type": "code",
   "execution_count": 66,
   "id": "5db7ff5d",
   "metadata": {},
   "outputs": [],
   "source": [
    "import numpy as np"
   ]
  },
  {
   "cell_type": "code",
   "execution_count": 81,
   "id": "39cbb1f8",
   "metadata": {},
   "outputs": [
    {
     "name": "stdout",
     "output_type": "stream",
     "text": [
      "[0, 1, 2, 3, 4, 5, 6, 7, 8, 9, 10]\n",
      "[0, 1, 2, 3, 4, 5, 6, 7, 8, 9, 10, 0, 1, 2, 3, 4, 5, 6, 7, 8, 9, 10]\n"
     ]
    }
   ],
   "source": [
    "cobalist = list(range(0,11))\n",
    "print(cobalist)\n",
    "print(cobalist*2)"
   ]
  },
  {
   "cell_type": "code",
   "execution_count": 80,
   "id": "debe86d6",
   "metadata": {},
   "outputs": [
    {
     "name": "stdout",
     "output_type": "stream",
     "text": [
      "[ 0  1  2  3  4  5  6  7  8  9 10]\n",
      "[ 5  6  7  8  9 10 11 12 13 14 15]\n",
      "[ 0  2  4  6  8 10 12 14 16 18 20]\n",
      "[  0   1   4   9  16  25  36  49  64  81 100]\n"
     ]
    }
   ],
   "source": [
    "coba = np.arange(0,11)\n",
    "\n",
    "print(coba)\n",
    "print(coba + 5)\n",
    "print( coba + coba)\n",
    "print(coba**2)"
   ]
  },
  {
   "cell_type": "code",
   "execution_count": 85,
   "id": "30cd98ac",
   "metadata": {},
   "outputs": [
    {
     "name": "stdout",
     "output_type": "stream",
     "text": [
      "[0.  0.5 1.  1.5 2.  2.5 3.  3.5 4.  4.5 5. ]\n"
     ]
    }
   ],
   "source": [
    "print(coba/2)"
   ]
  },
  {
   "cell_type": "code",
   "execution_count": 86,
   "id": "e1bc54e6",
   "metadata": {},
   "outputs": [
    {
     "name": "stdout",
     "output_type": "stream",
     "text": [
      "[0.         1.         1.41421356 1.73205081 2.         2.23606798\n",
      " 2.44948974 2.64575131 2.82842712 3.         3.16227766]\n"
     ]
    }
   ],
   "source": [
    "print(np.sqrt(coba))"
   ]
  },
  {
   "cell_type": "markdown",
   "id": "119fd96f",
   "metadata": {},
   "source": [
    "##  e (eksponen) = 2.7182"
   ]
  },
  {
   "cell_type": "code",
   "execution_count": 87,
   "id": "f5390390",
   "metadata": {},
   "outputs": [
    {
     "data": {
      "text/plain": [
       "array([1.00000000e+00, 2.71828183e+00, 7.38905610e+00, 2.00855369e+01,\n",
       "       5.45981500e+01, 1.48413159e+02, 4.03428793e+02, 1.09663316e+03,\n",
       "       2.98095799e+03, 8.10308393e+03, 2.20264658e+04])"
      ]
     },
     "execution_count": 87,
     "metadata": {},
     "output_type": "execute_result"
    }
   ],
   "source": [
    "np.exp(coba)"
   ]
  },
  {
   "cell_type": "code",
   "execution_count": 88,
   "id": "1e3655d4",
   "metadata": {},
   "outputs": [
    {
     "data": {
      "text/plain": [
       "10"
      ]
     },
     "execution_count": 88,
     "metadata": {},
     "output_type": "execute_result"
    }
   ],
   "source": [
    "coba.max()"
   ]
  },
  {
   "cell_type": "code",
   "execution_count": 89,
   "id": "343524a7",
   "metadata": {},
   "outputs": [
    {
     "data": {
      "text/plain": [
       "10"
      ]
     },
     "execution_count": 89,
     "metadata": {},
     "output_type": "execute_result"
    }
   ],
   "source": [
    "np.max(coba)"
   ]
  },
  {
   "cell_type": "code",
   "execution_count": 90,
   "id": "ce7f4f07",
   "metadata": {},
   "outputs": [
    {
     "data": {
      "text/plain": [
       "array([ 0.        ,  0.84147098,  0.90929743,  0.14112001, -0.7568025 ,\n",
       "       -0.95892427, -0.2794155 ,  0.6569866 ,  0.98935825,  0.41211849,\n",
       "       -0.54402111])"
      ]
     },
     "execution_count": 90,
     "metadata": {},
     "output_type": "execute_result"
    }
   ],
   "source": [
    "np.sin(coba)"
   ]
  },
  {
   "cell_type": "code",
   "execution_count": 91,
   "id": "ce834ff2",
   "metadata": {},
   "outputs": [
    {
     "name": "stderr",
     "output_type": "stream",
     "text": [
      "<ipython-input-91-953d5638885c>:1: RuntimeWarning: divide by zero encountered in log\n",
      "  np.log(coba)\n"
     ]
    },
    {
     "data": {
      "text/plain": [
       "array([      -inf, 0.        , 0.69314718, 1.09861229, 1.38629436,\n",
       "       1.60943791, 1.79175947, 1.94591015, 2.07944154, 2.19722458,\n",
       "       2.30258509])"
      ]
     },
     "execution_count": 91,
     "metadata": {},
     "output_type": "execute_result"
    }
   ],
   "source": [
    "np.log(coba)"
   ]
  },
  {
   "cell_type": "markdown",
   "id": "b4ee0ba9",
   "metadata": {},
   "source": [
    "# Dokumentasi :\n",
    "\n",
    "https://numpy.org/doc/stable/reference/ufuncs.html"
   ]
  },
  {
   "cell_type": "code",
   "execution_count": null,
   "id": "90d6a1c1",
   "metadata": {},
   "outputs": [],
   "source": []
  }
 ],
 "metadata": {
  "kernelspec": {
   "display_name": "Python 3",
   "language": "python",
   "name": "python3"
  },
  "language_info": {
   "codemirror_mode": {
    "name": "ipython",
    "version": 3
   },
   "file_extension": ".py",
   "mimetype": "text/x-python",
   "name": "python",
   "nbconvert_exporter": "python",
   "pygments_lexer": "ipython3",
   "version": "3.8.8"
  }
 },
 "nbformat": 4,
 "nbformat_minor": 5
}
